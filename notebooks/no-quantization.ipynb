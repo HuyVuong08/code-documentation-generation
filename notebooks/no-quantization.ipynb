{
 "cells": [
  {
   "cell_type": "code",
   "execution_count": 9,
   "id": "1d7741f7",
   "metadata": {},
   "outputs": [],
   "source": [
    "import pandas as pd\n",
    "import json\n",
    "import torch\n",
    "from datasets import Dataset\n",
    "from transformers import (\n",
    "    AutoModelForSeq2SeqLM,\n",
    "    AutoTokenizer,\n",
    "    DataCollatorForSeq2Seq,\n",
    "    Seq2SeqTrainingArguments,\n",
    "    Seq2SeqTrainer\n",
    ")\n",
    "from sklearn.model_selection import train_test_split\n",
    "from peft import (\n",
    "    get_peft_model,\n",
    "    LoraConfig,\n",
    "    TaskType\n",
    ")\n",
    "import os\n",
    "import platform"
   ]
  },
  {
   "cell_type": "code",
   "execution_count": null,
   "id": "2e525df5",
   "metadata": {},
   "outputs": [
    {
     "data": {
      "text/html": [
       "<div>\n",
       "<style scoped>\n",
       "    .dataframe tbody tr th:only-of-type {\n",
       "        vertical-align: middle;\n",
       "    }\n",
       "\n",
       "    .dataframe tbody tr th {\n",
       "        vertical-align: top;\n",
       "    }\n",
       "\n",
       "    .dataframe thead th {\n",
       "        text-align: right;\n",
       "    }\n",
       "</style>\n",
       "<table border=\"1\" class=\"dataframe\">\n",
       "  <thead>\n",
       "    <tr style=\"text-align: right;\">\n",
       "      <th></th>\n",
       "      <th>docstring</th>\n",
       "      <th>code</th>\n",
       "      <th>function</th>\n",
       "      <th>file_path</th>\n",
       "      <th>filename</th>\n",
       "    </tr>\n",
       "  </thead>\n",
       "  <tbody>\n",
       "    <tr>\n",
       "      <th>0</th>\n",
       "      <td>fetches information on multiple orders made by...</td>\n",
       "      <td>def fetch_orders(self, symbol: Str = None, sin...</td>\n",
       "      <td>oceanex.fetch_orders</td>\n",
       "      <td>python/ccxt/oceanex.py</td>\n",
       "      <td>oceanex.py</td>\n",
       "    </tr>\n",
       "    <tr>\n",
       "      <th>1</th>\n",
       "      <td>Test if the accelerator is set to `tpu` when d...</td>\n",
       "      <td>def test_accelerator_set_when_using_tpu(device...</td>\n",
       "      <td>test_accelerator_set_when_using_tpu</td>\n",
       "      <td>tests/tests_pytorch/models/test_tpu.py</td>\n",
       "      <td>test_tpu.py</td>\n",
       "    </tr>\n",
       "    <tr>\n",
       "      <th>2</th>\n",
       "      <td>Initialize data storage.</td>\n",
       "      <td>def __init__(self, hass: HomeAssistant, legacy...</td>\n",
       "      <td>StoredData.__init__</td>\n",
       "      <td>homeassistant/components/feedreader/__init__.py</td>\n",
       "      <td>__init__.py</td>\n",
       "    </tr>\n",
       "    <tr>\n",
       "      <th>3</th>\n",
       "      <td>Fetches the history of funding rates\\n        ...</td>\n",
       "      <td>def fetch_funding_rate_history(self, symbol=No...</td>\n",
       "      <td>bitmex.fetch_funding_rate_history</td>\n",
       "      <td>python/ccxt/bitmex.py</td>\n",
       "      <td>bitmex.py</td>\n",
       "    </tr>\n",
       "    <tr>\n",
       "      <th>4</th>\n",
       "      <td>see https://www.bitmex.com/api/explorer/#not /...</td>\n",
       "      <td>def fetch_my_trades(self, symbol: Optional[str...</td>\n",
       "      <td>bitmex.fetch_my_trades</td>\n",
       "      <td>python/ccxt/bitmex.py</td>\n",
       "      <td>bitmex.py</td>\n",
       "    </tr>\n",
       "    <tr>\n",
       "      <th>...</th>\n",
       "      <td>...</td>\n",
       "      <td>...</td>\n",
       "      <td>...</td>\n",
       "      <td>...</td>\n",
       "      <td>...</td>\n",
       "    </tr>\n",
       "    <tr>\n",
       "      <th>2295</th>\n",
       "      <td>Inspect any Python object.\\n\\n    * inspect(&lt;O...</td>\n",
       "      <td>def inspect(\\n    obj: Any,\\n    *,\\n    conso...</td>\n",
       "      <td>inspect</td>\n",
       "      <td>rich/__init__.py</td>\n",
       "      <td>__init__.py</td>\n",
       "    </tr>\n",
       "    <tr>\n",
       "      <th>2296</th>\n",
       "      <td>Pretty prints JSON. Output will be valid JSON....</td>\n",
       "      <td>def print_json(\\n    json: Optional[str] = Non...</td>\n",
       "      <td>print_json</td>\n",
       "      <td>rich/__init__.py</td>\n",
       "      <td>__init__.py</td>\n",
       "    </tr>\n",
       "    <tr>\n",
       "      <th>2297</th>\n",
       "      <td>Return true if safety issue detected.</td>\n",
       "      <td>def is_on(self):\\n        \\n        parent_is_...</td>\n",
       "      <td>HomematicipSecuritySensorGroup.is_on</td>\n",
       "      <td>homeassistant/components/homematicip_cloud/bin...</td>\n",
       "      <td>binary_sensor.py</td>\n",
       "    </tr>\n",
       "    <tr>\n",
       "      <th>2298</th>\n",
       "      <td>validates an input instance before a convex-hu...</td>\n",
       "      <td>def _validate_input(points):\\n    \\n    \\n    ...</td>\n",
       "      <td>_validate_input</td>\n",
       "      <td>divide_and_conquer/convex_hull.py</td>\n",
       "      <td>convex_hull.py</td>\n",
       "    </tr>\n",
       "    <tr>\n",
       "      <th>2299</th>\n",
       "      <td>Test initialize gRPCProxyRequest with healthz ...</td>\n",
       "      <td>def test_calling_healthz_method(self):\\n      ...</td>\n",
       "      <td>TestgRPCProxyRequest.test_calling_healthz_method</td>\n",
       "      <td>python/ray/serve/tests/unit/test_proxy_request...</td>\n",
       "      <td>test_proxy_request_response.py</td>\n",
       "    </tr>\n",
       "  </tbody>\n",
       "</table>\n",
       "<p>2300 rows × 5 columns</p>\n",
       "</div>"
      ],
      "text/plain": [
       "                                              docstring  \\\n",
       "0     fetches information on multiple orders made by...   \n",
       "1     Test if the accelerator is set to `tpu` when d...   \n",
       "2                              Initialize data storage.   \n",
       "3     Fetches the history of funding rates\\n        ...   \n",
       "4     see https://www.bitmex.com/api/explorer/#not /...   \n",
       "...                                                 ...   \n",
       "2295  Inspect any Python object.\\n\\n    * inspect(<O...   \n",
       "2296  Pretty prints JSON. Output will be valid JSON....   \n",
       "2297              Return true if safety issue detected.   \n",
       "2298  validates an input instance before a convex-hu...   \n",
       "2299  Test initialize gRPCProxyRequest with healthz ...   \n",
       "\n",
       "                                                   code  \\\n",
       "0     def fetch_orders(self, symbol: Str = None, sin...   \n",
       "1     def test_accelerator_set_when_using_tpu(device...   \n",
       "2     def __init__(self, hass: HomeAssistant, legacy...   \n",
       "3     def fetch_funding_rate_history(self, symbol=No...   \n",
       "4     def fetch_my_trades(self, symbol: Optional[str...   \n",
       "...                                                 ...   \n",
       "2295  def inspect(\\n    obj: Any,\\n    *,\\n    conso...   \n",
       "2296  def print_json(\\n    json: Optional[str] = Non...   \n",
       "2297  def is_on(self):\\n        \\n        parent_is_...   \n",
       "2298  def _validate_input(points):\\n    \\n    \\n    ...   \n",
       "2299  def test_calling_healthz_method(self):\\n      ...   \n",
       "\n",
       "                                              function  \\\n",
       "0                                 oceanex.fetch_orders   \n",
       "1                  test_accelerator_set_when_using_tpu   \n",
       "2                                  StoredData.__init__   \n",
       "3                    bitmex.fetch_funding_rate_history   \n",
       "4                               bitmex.fetch_my_trades   \n",
       "...                                                ...   \n",
       "2295                                           inspect   \n",
       "2296                                        print_json   \n",
       "2297              HomematicipSecuritySensorGroup.is_on   \n",
       "2298                                   _validate_input   \n",
       "2299  TestgRPCProxyRequest.test_calling_healthz_method   \n",
       "\n",
       "                                              file_path  \\\n",
       "0                                python/ccxt/oceanex.py   \n",
       "1                tests/tests_pytorch/models/test_tpu.py   \n",
       "2       homeassistant/components/feedreader/__init__.py   \n",
       "3                                 python/ccxt/bitmex.py   \n",
       "4                                 python/ccxt/bitmex.py   \n",
       "...                                                 ...   \n",
       "2295                                   rich/__init__.py   \n",
       "2296                                   rich/__init__.py   \n",
       "2297  homeassistant/components/homematicip_cloud/bin...   \n",
       "2298                  divide_and_conquer/convex_hull.py   \n",
       "2299  python/ray/serve/tests/unit/test_proxy_request...   \n",
       "\n",
       "                            filename  \n",
       "0                         oceanex.py  \n",
       "1                        test_tpu.py  \n",
       "2                        __init__.py  \n",
       "3                          bitmex.py  \n",
       "4                          bitmex.py  \n",
       "...                              ...  \n",
       "2295                     __init__.py  \n",
       "2296                     __init__.py  \n",
       "2297                binary_sensor.py  \n",
       "2298                  convex_hull.py  \n",
       "2299  test_proxy_request_response.py  \n",
       "\n",
       "[2300 rows x 5 columns]"
      ]
     },
     "execution_count": 10,
     "metadata": {},
     "output_type": "execute_result"
    }
   ],
   "source": [
    "files = {\n",
    "    'test': '../data/raw/test.jsonl',\n",
    "    'train': '../data/raw/train.jsonl'\n",
    "}\n",
    "\n",
    "def readDataset(file):\n",
    "    test_set, train_set = [], []\n",
    "    # Open and parse the JSONL file\n",
    "    with open(file, 'r') as file:\n",
    "        dataset = [json.loads(line) for line in file]\n",
    "\n",
    "    for data_point in dataset:\n",
    "        test_set.append({\n",
    "            'docstring': data_point['version_data'][-1]['docstring'],\n",
    "            'code': data_point['version_data'][-1]['code'],\n",
    "            'function': data_point['function'],\n",
    "            'file_path': data_point['file_path'],\n",
    "            'filename': data_point['filename'],\n",
    "        })\n",
    "    return pd.DataFrame(test_set)\n",
    "\n",
    "test_df, train_df = pd.DataFrame(), pd.DataFrame()\n",
    "for name, path in files.items():\n",
    "    if name == 'test':\n",
    "        test_df = readDataset(path)\n",
    "    elif name == 'train':\n",
    "        train_df = readDataset(path)\n",
    "\n",
    "test_df\n",
    "train_df"
   ]
  },
  {
   "cell_type": "code",
   "execution_count": 7,
   "id": "37afc38e",
   "metadata": {},
   "outputs": [
    {
     "name": "stdout",
     "output_type": "stream",
     "text": [
      "Running on Apple Silicon: True\n",
      "Using device: mps\n"
     ]
    },
    {
     "name": "stderr",
     "output_type": "stream",
     "text": [
      "WARNING: pip is being invoked by an old script wrapper. This will fail in a future version of pip.\n",
      "Please see https://github.com/pypa/pip/issues/5599 for advice on fixing the underlying issue.\n",
      "To avoid this problem you can invoke Python with '-m pip' instead of running pip directly.\n"
     ]
    },
    {
     "data": {
      "text/html": [
       "<pre style=\"white-space:pre;overflow-x:auto;line-height:normal;font-family:Menlo,'DejaVu Sans Mono',consolas,'Courier New',monospace\">Requirement already satisfied: transformers in /opt/anaconda3/envs/music/lib/python3.12/site-packages (4.49.0)\n",
       "</pre>\n"
      ],
      "text/plain": [
       "Requirement already satisfied: transformers in /opt/anaconda3/envs/music/lib/python3.12/site-packages (4.49.0)\n"
      ]
     },
     "metadata": {},
     "output_type": "display_data"
    },
    {
     "data": {
      "text/html": [
       "<pre style=\"white-space:pre;overflow-x:auto;line-height:normal;font-family:Menlo,'DejaVu Sans Mono',consolas,'Courier New',monospace\">Requirement already satisfied: datasets in /opt/anaconda3/envs/music/lib/python3.12/site-packages (3.3.2)\n",
       "</pre>\n"
      ],
      "text/plain": [
       "Requirement already satisfied: datasets in /opt/anaconda3/envs/music/lib/python3.12/site-packages (3.3.2)\n"
      ]
     },
     "metadata": {},
     "output_type": "display_data"
    },
    {
     "data": {
      "text/html": [
       "<pre style=\"white-space:pre;overflow-x:auto;line-height:normal;font-family:Menlo,'DejaVu Sans Mono',consolas,'Courier New',monospace\">Requirement already satisfied: peft in /opt/anaconda3/envs/music/lib/python3.12/site-packages (0.15.2)\n",
       "</pre>\n"
      ],
      "text/plain": [
       "Requirement already satisfied: peft in /opt/anaconda3/envs/music/lib/python3.12/site-packages (0.15.2)\n"
      ]
     },
     "metadata": {},
     "output_type": "display_data"
    },
    {
     "data": {
      "text/html": [
       "<pre style=\"white-space:pre;overflow-x:auto;line-height:normal;font-family:Menlo,'DejaVu Sans Mono',consolas,'Courier New',monospace\">Requirement already satisfied: tensorboard in /opt/anaconda3/envs/music/lib/python3.12/site-packages (2.19.0)\n",
       "</pre>\n"
      ],
      "text/plain": [
       "Requirement already satisfied: tensorboard in /opt/anaconda3/envs/music/lib/python3.12/site-packages (2.19.0)\n"
      ]
     },
     "metadata": {},
     "output_type": "display_data"
    },
    {
     "data": {
      "text/html": [
       "<pre style=\"white-space:pre;overflow-x:auto;line-height:normal;font-family:Menlo,'DejaVu Sans Mono',consolas,'Courier New',monospace\">Requirement already satisfied: scikit-learn in /opt/anaconda3/envs/music/lib/python3.12/site-packages (1.6.1)\n",
       "</pre>\n"
      ],
      "text/plain": [
       "Requirement already satisfied: scikit-learn in /opt/anaconda3/envs/music/lib/python3.12/site-packages (1.6.1)\n"
      ]
     },
     "metadata": {},
     "output_type": "display_data"
    },
    {
     "data": {
      "text/html": [
       "<pre style=\"white-space:pre;overflow-x:auto;line-height:normal;font-family:Menlo,'DejaVu Sans Mono',consolas,'Courier New',monospace\">Requirement already satisfied: filelock in /opt/anaconda3/envs/music/lib/python3.12/site-packages (from transformers) (3.17.0)\n",
       "</pre>\n"
      ],
      "text/plain": [
       "Requirement already satisfied: filelock in /opt/anaconda3/envs/music/lib/python3.12/site-packages (from transformers) (3.17.0)\n"
      ]
     },
     "metadata": {},
     "output_type": "display_data"
    },
    {
     "data": {
      "text/html": [
       "<pre style=\"white-space:pre;overflow-x:auto;line-height:normal;font-family:Menlo,'DejaVu Sans Mono',consolas,'Courier New',monospace\">Requirement already satisfied: huggingface-hub&lt;1.0,&gt;=0.26.0 in /opt/anaconda3/envs/music/lib/python3.12/site-packages (from transformers) (0.29.3)\n",
       "</pre>\n"
      ],
      "text/plain": [
       "Requirement already satisfied: huggingface-hub<1.0,>=0.26.0 in /opt/anaconda3/envs/music/lib/python3.12/site-packages (from transformers) (0.29.3)\n"
      ]
     },
     "metadata": {},
     "output_type": "display_data"
    },
    {
     "data": {
      "text/html": [
       "<pre style=\"white-space:pre;overflow-x:auto;line-height:normal;font-family:Menlo,'DejaVu Sans Mono',consolas,'Courier New',monospace\">Requirement already satisfied: numpy&gt;=1.17 in /opt/anaconda3/envs/music/lib/python3.12/site-packages (from transformers) (2.1.3)\n",
       "</pre>\n"
      ],
      "text/plain": [
       "Requirement already satisfied: numpy>=1.17 in /opt/anaconda3/envs/music/lib/python3.12/site-packages (from transformers) (2.1.3)\n"
      ]
     },
     "metadata": {},
     "output_type": "display_data"
    },
    {
     "data": {
      "text/html": [
       "<pre style=\"white-space:pre;overflow-x:auto;line-height:normal;font-family:Menlo,'DejaVu Sans Mono',consolas,'Courier New',monospace\">Requirement already satisfied: packaging&gt;=20.0 in /opt/anaconda3/envs/music/lib/python3.12/site-packages (from transformers) (24.2)\n",
       "</pre>\n"
      ],
      "text/plain": [
       "Requirement already satisfied: packaging>=20.0 in /opt/anaconda3/envs/music/lib/python3.12/site-packages (from transformers) (24.2)\n"
      ]
     },
     "metadata": {},
     "output_type": "display_data"
    },
    {
     "data": {
      "text/html": [
       "<pre style=\"white-space:pre;overflow-x:auto;line-height:normal;font-family:Menlo,'DejaVu Sans Mono',consolas,'Courier New',monospace\">Requirement already satisfied: pyyaml&gt;=5.1 in /opt/anaconda3/envs/music/lib/python3.12/site-packages (from transformers) (6.0.2)\n",
       "</pre>\n"
      ],
      "text/plain": [
       "Requirement already satisfied: pyyaml>=5.1 in /opt/anaconda3/envs/music/lib/python3.12/site-packages (from transformers) (6.0.2)\n"
      ]
     },
     "metadata": {},
     "output_type": "display_data"
    },
    {
     "data": {
      "text/html": [
       "<pre style=\"white-space:pre;overflow-x:auto;line-height:normal;font-family:Menlo,'DejaVu Sans Mono',consolas,'Courier New',monospace\">Requirement already satisfied: regex!=2019.12.17 in /opt/anaconda3/envs/music/lib/python3.12/site-packages (from transformers) (2024.11.6)\n",
       "</pre>\n"
      ],
      "text/plain": [
       "Requirement already satisfied: regex!=2019.12.17 in /opt/anaconda3/envs/music/lib/python3.12/site-packages (from transformers) (2024.11.6)\n"
      ]
     },
     "metadata": {},
     "output_type": "display_data"
    },
    {
     "data": {
      "text/html": [
       "<pre style=\"white-space:pre;overflow-x:auto;line-height:normal;font-family:Menlo,'DejaVu Sans Mono',consolas,'Courier New',monospace\">Requirement already satisfied: requests in /opt/anaconda3/envs/music/lib/python3.12/site-packages (from transformers) (2.32.3)\n",
       "</pre>\n"
      ],
      "text/plain": [
       "Requirement already satisfied: requests in /opt/anaconda3/envs/music/lib/python3.12/site-packages (from transformers) (2.32.3)\n"
      ]
     },
     "metadata": {},
     "output_type": "display_data"
    },
    {
     "data": {
      "text/html": [
       "<pre style=\"white-space:pre;overflow-x:auto;line-height:normal;font-family:Menlo,'DejaVu Sans Mono',consolas,'Courier New',monospace\">Requirement already satisfied: tokenizers&lt;0.22,&gt;=0.21 in /opt/anaconda3/envs/music/lib/python3.12/site-packages (from transformers) (0.21.0)\n",
       "</pre>\n"
      ],
      "text/plain": [
       "Requirement already satisfied: tokenizers<0.22,>=0.21 in /opt/anaconda3/envs/music/lib/python3.12/site-packages (from transformers) (0.21.0)\n"
      ]
     },
     "metadata": {},
     "output_type": "display_data"
    },
    {
     "data": {
      "text/html": [
       "<pre style=\"white-space:pre;overflow-x:auto;line-height:normal;font-family:Menlo,'DejaVu Sans Mono',consolas,'Courier New',monospace\">Requirement already satisfied: safetensors&gt;=0.4.1 in /opt/anaconda3/envs/music/lib/python3.12/site-packages (from transformers) (0.5.3)\n",
       "</pre>\n"
      ],
      "text/plain": [
       "Requirement already satisfied: safetensors>=0.4.1 in /opt/anaconda3/envs/music/lib/python3.12/site-packages (from transformers) (0.5.3)\n"
      ]
     },
     "metadata": {},
     "output_type": "display_data"
    },
    {
     "data": {
      "text/html": [
       "<pre style=\"white-space:pre;overflow-x:auto;line-height:normal;font-family:Menlo,'DejaVu Sans Mono',consolas,'Courier New',monospace\">Requirement already satisfied: tqdm&gt;=4.27 in /opt/anaconda3/envs/music/lib/python3.12/site-packages (from transformers) (4.67.1)\n",
       "</pre>\n"
      ],
      "text/plain": [
       "Requirement already satisfied: tqdm>=4.27 in /opt/anaconda3/envs/music/lib/python3.12/site-packages (from transformers) (4.67.1)\n"
      ]
     },
     "metadata": {},
     "output_type": "display_data"
    },
    {
     "data": {
      "text/html": [
       "<pre style=\"white-space:pre;overflow-x:auto;line-height:normal;font-family:Menlo,'DejaVu Sans Mono',consolas,'Courier New',monospace\">Requirement already satisfied: pyarrow&gt;=15.0.0 in /opt/anaconda3/envs/music/lib/python3.12/site-packages (from datasets) (19.0.1)\n",
       "</pre>\n"
      ],
      "text/plain": [
       "Requirement already satisfied: pyarrow>=15.0.0 in /opt/anaconda3/envs/music/lib/python3.12/site-packages (from datasets) (19.0.1)\n"
      ]
     },
     "metadata": {},
     "output_type": "display_data"
    },
    {
     "data": {
      "text/html": [
       "<pre style=\"white-space:pre;overflow-x:auto;line-height:normal;font-family:Menlo,'DejaVu Sans Mono',consolas,'Courier New',monospace\">Requirement already satisfied: dill&lt;0.3.9,&gt;=0.3.0 in /opt/anaconda3/envs/music/lib/python3.12/site-packages (from datasets) (0.3.8)\n",
       "</pre>\n"
      ],
      "text/plain": [
       "Requirement already satisfied: dill<0.3.9,>=0.3.0 in /opt/anaconda3/envs/music/lib/python3.12/site-packages (from datasets) (0.3.8)\n"
      ]
     },
     "metadata": {},
     "output_type": "display_data"
    },
    {
     "data": {
      "text/html": [
       "<pre style=\"white-space:pre;overflow-x:auto;line-height:normal;font-family:Menlo,'DejaVu Sans Mono',consolas,'Courier New',monospace\">Requirement already satisfied: pandas in /opt/anaconda3/envs/music/lib/python3.12/site-packages (from datasets) (2.2.3)\n",
       "</pre>\n"
      ],
      "text/plain": [
       "Requirement already satisfied: pandas in /opt/anaconda3/envs/music/lib/python3.12/site-packages (from datasets) (2.2.3)\n"
      ]
     },
     "metadata": {},
     "output_type": "display_data"
    },
    {
     "data": {
      "text/html": [
       "<pre style=\"white-space:pre;overflow-x:auto;line-height:normal;font-family:Menlo,'DejaVu Sans Mono',consolas,'Courier New',monospace\">Requirement already satisfied: xxhash in /opt/anaconda3/envs/music/lib/python3.12/site-packages (from datasets) (3.5.0)\n",
       "</pre>\n"
      ],
      "text/plain": [
       "Requirement already satisfied: xxhash in /opt/anaconda3/envs/music/lib/python3.12/site-packages (from datasets) (3.5.0)\n"
      ]
     },
     "metadata": {},
     "output_type": "display_data"
    },
    {
     "data": {
      "text/html": [
       "<pre style=\"white-space:pre;overflow-x:auto;line-height:normal;font-family:Menlo,'DejaVu Sans Mono',consolas,'Courier New',monospace\">Requirement already satisfied: multiprocess&lt;0.70.17 in /opt/anaconda3/envs/music/lib/python3.12/site-packages (from datasets) (0.70.16)\n",
       "</pre>\n"
      ],
      "text/plain": [
       "Requirement already satisfied: multiprocess<0.70.17 in /opt/anaconda3/envs/music/lib/python3.12/site-packages (from datasets) (0.70.16)\n"
      ]
     },
     "metadata": {},
     "output_type": "display_data"
    },
    {
     "data": {
      "text/html": [
       "<pre style=\"white-space:pre;overflow-x:auto;line-height:normal;font-family:Menlo,'DejaVu Sans Mono',consolas,'Courier New',monospace\">Requirement already satisfied: fsspec&lt;=2024.12.0,&gt;=2023.1.0 in /opt/anaconda3/envs/music/lib/python3.12/site-packages (from fsspec[http]&lt;=2024.12.0,&gt;=2023.1.0-&gt;datasets) (2024.12.0)\n",
       "</pre>\n"
      ],
      "text/plain": [
       "Requirement already satisfied: fsspec<=2024.12.0,>=2023.1.0 in /opt/anaconda3/envs/music/lib/python3.12/site-packages (from fsspec[http]<=2024.12.0,>=2023.1.0->datasets) (2024.12.0)\n"
      ]
     },
     "metadata": {},
     "output_type": "display_data"
    },
    {
     "data": {
      "text/html": [
       "<pre style=\"white-space:pre;overflow-x:auto;line-height:normal;font-family:Menlo,'DejaVu Sans Mono',consolas,'Courier New',monospace\">Requirement already satisfied: aiohttp in /opt/anaconda3/envs/music/lib/python3.12/site-packages (from datasets) (3.11.13)\n",
       "</pre>\n"
      ],
      "text/plain": [
       "Requirement already satisfied: aiohttp in /opt/anaconda3/envs/music/lib/python3.12/site-packages (from datasets) (3.11.13)\n"
      ]
     },
     "metadata": {},
     "output_type": "display_data"
    },
    {
     "data": {
      "text/html": [
       "<pre style=\"white-space:pre;overflow-x:auto;line-height:normal;font-family:Menlo,'DejaVu Sans Mono',consolas,'Courier New',monospace\">Requirement already satisfied: psutil in /opt/anaconda3/envs/music/lib/python3.12/site-packages (from peft) (5.9.0)\n",
       "</pre>\n"
      ],
      "text/plain": [
       "Requirement already satisfied: psutil in /opt/anaconda3/envs/music/lib/python3.12/site-packages (from peft) (5.9.0)\n"
      ]
     },
     "metadata": {},
     "output_type": "display_data"
    },
    {
     "data": {
      "text/html": [
       "<pre style=\"white-space:pre;overflow-x:auto;line-height:normal;font-family:Menlo,'DejaVu Sans Mono',consolas,'Courier New',monospace\">Requirement already satisfied: torch&gt;=1.13.0 in /opt/anaconda3/envs/music/lib/python3.12/site-packages (from peft) (2.8.0.dev20250416)\n",
       "</pre>\n"
      ],
      "text/plain": [
       "Requirement already satisfied: torch>=1.13.0 in /opt/anaconda3/envs/music/lib/python3.12/site-packages (from peft) (2.8.0.dev20250416)\n"
      ]
     },
     "metadata": {},
     "output_type": "display_data"
    },
    {
     "data": {
      "text/html": [
       "<pre style=\"white-space:pre;overflow-x:auto;line-height:normal;font-family:Menlo,'DejaVu Sans Mono',consolas,'Courier New',monospace\">Requirement already satisfied: accelerate&gt;=0.21.0 in /opt/anaconda3/envs/music/lib/python3.12/site-packages (from peft) (1.6.0)\n",
       "</pre>\n"
      ],
      "text/plain": [
       "Requirement already satisfied: accelerate>=0.21.0 in /opt/anaconda3/envs/music/lib/python3.12/site-packages (from peft) (1.6.0)\n"
      ]
     },
     "metadata": {},
     "output_type": "display_data"
    },
    {
     "data": {
      "text/html": [
       "<pre style=\"white-space:pre;overflow-x:auto;line-height:normal;font-family:Menlo,'DejaVu Sans Mono',consolas,'Courier New',monospace\">Requirement already satisfied: absl-py&gt;=0.4 in /opt/anaconda3/envs/music/lib/python3.12/site-packages (from tensorboard) (2.2.2)\n",
       "</pre>\n"
      ],
      "text/plain": [
       "Requirement already satisfied: absl-py>=0.4 in /opt/anaconda3/envs/music/lib/python3.12/site-packages (from tensorboard) (2.2.2)\n"
      ]
     },
     "metadata": {},
     "output_type": "display_data"
    },
    {
     "data": {
      "text/html": [
       "<pre style=\"white-space:pre;overflow-x:auto;line-height:normal;font-family:Menlo,'DejaVu Sans Mono',consolas,'Courier New',monospace\">Requirement already satisfied: grpcio&gt;=1.48.2 in /opt/anaconda3/envs/music/lib/python3.12/site-packages (from tensorboard) (1.71.0)\n",
       "</pre>\n"
      ],
      "text/plain": [
       "Requirement already satisfied: grpcio>=1.48.2 in /opt/anaconda3/envs/music/lib/python3.12/site-packages (from tensorboard) (1.71.0)\n"
      ]
     },
     "metadata": {},
     "output_type": "display_data"
    },
    {
     "data": {
      "text/html": [
       "<pre style=\"white-space:pre;overflow-x:auto;line-height:normal;font-family:Menlo,'DejaVu Sans Mono',consolas,'Courier New',monospace\">Requirement already satisfied: markdown&gt;=2.6.8 in /opt/anaconda3/envs/music/lib/python3.12/site-packages (from tensorboard) (3.8)\n",
       "</pre>\n"
      ],
      "text/plain": [
       "Requirement already satisfied: markdown>=2.6.8 in /opt/anaconda3/envs/music/lib/python3.12/site-packages (from tensorboard) (3.8)\n"
      ]
     },
     "metadata": {},
     "output_type": "display_data"
    },
    {
     "data": {
      "text/html": [
       "<pre style=\"white-space:pre;overflow-x:auto;line-height:normal;font-family:Menlo,'DejaVu Sans Mono',consolas,'Courier New',monospace\">Requirement already satisfied: protobuf!=4.24.0,&gt;=3.19.6 in /opt/anaconda3/envs/music/lib/python3.12/site-packages (from tensorboard) (6.30.2)\n",
       "</pre>\n"
      ],
      "text/plain": [
       "Requirement already satisfied: protobuf!=4.24.0,>=3.19.6 in /opt/anaconda3/envs/music/lib/python3.12/site-packages (from tensorboard) (6.30.2)\n"
      ]
     },
     "metadata": {},
     "output_type": "display_data"
    },
    {
     "data": {
      "text/html": [
       "<pre style=\"white-space:pre;overflow-x:auto;line-height:normal;font-family:Menlo,'DejaVu Sans Mono',consolas,'Courier New',monospace\">Requirement already satisfied: setuptools&gt;=41.0.0 in /opt/anaconda3/envs/music/lib/python3.12/site-packages (from tensorboard) (75.8.0)\n",
       "</pre>\n"
      ],
      "text/plain": [
       "Requirement already satisfied: setuptools>=41.0.0 in /opt/anaconda3/envs/music/lib/python3.12/site-packages (from tensorboard) (75.8.0)\n"
      ]
     },
     "metadata": {},
     "output_type": "display_data"
    },
    {
     "data": {
      "text/html": [
       "<pre style=\"white-space:pre;overflow-x:auto;line-height:normal;font-family:Menlo,'DejaVu Sans Mono',consolas,'Courier New',monospace\">Requirement already satisfied: six&gt;1.9 in /opt/anaconda3/envs/music/lib/python3.12/site-packages (from tensorboard) (1.17.0)\n",
       "</pre>\n"
      ],
      "text/plain": [
       "Requirement already satisfied: six>1.9 in /opt/anaconda3/envs/music/lib/python3.12/site-packages (from tensorboard) (1.17.0)\n"
      ]
     },
     "metadata": {},
     "output_type": "display_data"
    },
    {
     "data": {
      "text/html": [
       "<pre style=\"white-space:pre;overflow-x:auto;line-height:normal;font-family:Menlo,'DejaVu Sans Mono',consolas,'Courier New',monospace\">Requirement already satisfied: tensorboard-data-server&lt;0.8.0,&gt;=0.7.0 in /opt/anaconda3/envs/music/lib/python3.12/site-packages (from tensorboard) (0.7.2)\n",
       "</pre>\n"
      ],
      "text/plain": [
       "Requirement already satisfied: tensorboard-data-server<0.8.0,>=0.7.0 in /opt/anaconda3/envs/music/lib/python3.12/site-packages (from tensorboard) (0.7.2)\n"
      ]
     },
     "metadata": {},
     "output_type": "display_data"
    },
    {
     "data": {
      "text/html": [
       "<pre style=\"white-space:pre;overflow-x:auto;line-height:normal;font-family:Menlo,'DejaVu Sans Mono',consolas,'Courier New',monospace\">Requirement already satisfied: werkzeug&gt;=1.0.1 in /opt/anaconda3/envs/music/lib/python3.12/site-packages (from tensorboard) (3.1.3)\n",
       "</pre>\n"
      ],
      "text/plain": [
       "Requirement already satisfied: werkzeug>=1.0.1 in /opt/anaconda3/envs/music/lib/python3.12/site-packages (from tensorboard) (3.1.3)\n"
      ]
     },
     "metadata": {},
     "output_type": "display_data"
    },
    {
     "data": {
      "text/html": [
       "<pre style=\"white-space:pre;overflow-x:auto;line-height:normal;font-family:Menlo,'DejaVu Sans Mono',consolas,'Courier New',monospace\">Requirement already satisfied: scipy&gt;=1.6.0 in /opt/anaconda3/envs/music/lib/python3.12/site-packages (from scikit-learn) (1.15.2)\n",
       "</pre>\n"
      ],
      "text/plain": [
       "Requirement already satisfied: scipy>=1.6.0 in /opt/anaconda3/envs/music/lib/python3.12/site-packages (from scikit-learn) (1.15.2)\n"
      ]
     },
     "metadata": {},
     "output_type": "display_data"
    },
    {
     "data": {
      "text/html": [
       "<pre style=\"white-space:pre;overflow-x:auto;line-height:normal;font-family:Menlo,'DejaVu Sans Mono',consolas,'Courier New',monospace\">Requirement already satisfied: joblib&gt;=1.2.0 in /opt/anaconda3/envs/music/lib/python3.12/site-packages (from scikit-learn) (1.4.2)\n",
       "</pre>\n"
      ],
      "text/plain": [
       "Requirement already satisfied: joblib>=1.2.0 in /opt/anaconda3/envs/music/lib/python3.12/site-packages (from scikit-learn) (1.4.2)\n"
      ]
     },
     "metadata": {},
     "output_type": "display_data"
    },
    {
     "data": {
      "text/html": [
       "<pre style=\"white-space:pre;overflow-x:auto;line-height:normal;font-family:Menlo,'DejaVu Sans Mono',consolas,'Courier New',monospace\">Requirement already satisfied: threadpoolctl&gt;=3.1.0 in /opt/anaconda3/envs/music/lib/python3.12/site-packages (from scikit-learn) (3.5.0)\n",
       "</pre>\n"
      ],
      "text/plain": [
       "Requirement already satisfied: threadpoolctl>=3.1.0 in /opt/anaconda3/envs/music/lib/python3.12/site-packages (from scikit-learn) (3.5.0)\n"
      ]
     },
     "metadata": {},
     "output_type": "display_data"
    },
    {
     "data": {
      "text/html": [
       "<pre style=\"white-space:pre;overflow-x:auto;line-height:normal;font-family:Menlo,'DejaVu Sans Mono',consolas,'Courier New',monospace\">Requirement already satisfied: aiohappyeyeballs&gt;=2.3.0 in /opt/anaconda3/envs/music/lib/python3.12/site-packages (from aiohttp-&gt;datasets) (2.5.0)\n",
       "</pre>\n"
      ],
      "text/plain": [
       "Requirement already satisfied: aiohappyeyeballs>=2.3.0 in /opt/anaconda3/envs/music/lib/python3.12/site-packages (from aiohttp->datasets) (2.5.0)\n"
      ]
     },
     "metadata": {},
     "output_type": "display_data"
    },
    {
     "data": {
      "text/html": [
       "<pre style=\"white-space:pre;overflow-x:auto;line-height:normal;font-family:Menlo,'DejaVu Sans Mono',consolas,'Courier New',monospace\">Requirement already satisfied: aiosignal&gt;=1.1.2 in /opt/anaconda3/envs/music/lib/python3.12/site-packages (from aiohttp-&gt;datasets) (1.3.2)\n",
       "</pre>\n"
      ],
      "text/plain": [
       "Requirement already satisfied: aiosignal>=1.1.2 in /opt/anaconda3/envs/music/lib/python3.12/site-packages (from aiohttp->datasets) (1.3.2)\n"
      ]
     },
     "metadata": {},
     "output_type": "display_data"
    },
    {
     "data": {
      "text/html": [
       "<pre style=\"white-space:pre;overflow-x:auto;line-height:normal;font-family:Menlo,'DejaVu Sans Mono',consolas,'Courier New',monospace\">Requirement already satisfied: attrs&gt;=17.3.0 in /opt/anaconda3/envs/music/lib/python3.12/site-packages (from aiohttp-&gt;datasets) (25.1.0)\n",
       "</pre>\n"
      ],
      "text/plain": [
       "Requirement already satisfied: attrs>=17.3.0 in /opt/anaconda3/envs/music/lib/python3.12/site-packages (from aiohttp->datasets) (25.1.0)\n"
      ]
     },
     "metadata": {},
     "output_type": "display_data"
    },
    {
     "data": {
      "text/html": [
       "<pre style=\"white-space:pre;overflow-x:auto;line-height:normal;font-family:Menlo,'DejaVu Sans Mono',consolas,'Courier New',monospace\">Requirement already satisfied: frozenlist&gt;=1.1.1 in /opt/anaconda3/envs/music/lib/python3.12/site-packages (from aiohttp-&gt;datasets) (1.5.0)\n",
       "</pre>\n"
      ],
      "text/plain": [
       "Requirement already satisfied: frozenlist>=1.1.1 in /opt/anaconda3/envs/music/lib/python3.12/site-packages (from aiohttp->datasets) (1.5.0)\n"
      ]
     },
     "metadata": {},
     "output_type": "display_data"
    },
    {
     "data": {
      "text/html": [
       "<pre style=\"white-space:pre;overflow-x:auto;line-height:normal;font-family:Menlo,'DejaVu Sans Mono',consolas,'Courier New',monospace\">Requirement already satisfied: multidict&lt;7.0,&gt;=4.5 in /opt/anaconda3/envs/music/lib/python3.12/site-packages (from aiohttp-&gt;datasets) (6.1.0)\n",
       "</pre>\n"
      ],
      "text/plain": [
       "Requirement already satisfied: multidict<7.0,>=4.5 in /opt/anaconda3/envs/music/lib/python3.12/site-packages (from aiohttp->datasets) (6.1.0)\n"
      ]
     },
     "metadata": {},
     "output_type": "display_data"
    },
    {
     "data": {
      "text/html": [
       "<pre style=\"white-space:pre;overflow-x:auto;line-height:normal;font-family:Menlo,'DejaVu Sans Mono',consolas,'Courier New',monospace\">Requirement already satisfied: propcache&gt;=0.2.0 in /opt/anaconda3/envs/music/lib/python3.12/site-packages (from aiohttp-&gt;datasets) (0.3.0)\n",
       "</pre>\n"
      ],
      "text/plain": [
       "Requirement already satisfied: propcache>=0.2.0 in /opt/anaconda3/envs/music/lib/python3.12/site-packages (from aiohttp->datasets) (0.3.0)\n"
      ]
     },
     "metadata": {},
     "output_type": "display_data"
    },
    {
     "data": {
      "text/html": [
       "<pre style=\"white-space:pre;overflow-x:auto;line-height:normal;font-family:Menlo,'DejaVu Sans Mono',consolas,'Courier New',monospace\">Requirement already satisfied: yarl&lt;2.0,&gt;=1.17.0 in /opt/anaconda3/envs/music/lib/python3.12/site-packages (from aiohttp-&gt;datasets) (1.18.3)\n",
       "</pre>\n"
      ],
      "text/plain": [
       "Requirement already satisfied: yarl<2.0,>=1.17.0 in /opt/anaconda3/envs/music/lib/python3.12/site-packages (from aiohttp->datasets) (1.18.3)\n"
      ]
     },
     "metadata": {},
     "output_type": "display_data"
    },
    {
     "data": {
      "text/html": [
       "<pre style=\"white-space:pre;overflow-x:auto;line-height:normal;font-family:Menlo,'DejaVu Sans Mono',consolas,'Courier New',monospace\">Requirement already satisfied: typing-extensions&gt;=3.7.4.3 in /opt/anaconda3/envs/music/lib/python3.12/site-packages (from huggingface-hub&lt;1.0,&gt;=0.26.0-&gt;transformers) (4.12.2)\n",
       "</pre>\n"
      ],
      "text/plain": [
       "Requirement already satisfied: typing-extensions>=3.7.4.3 in /opt/anaconda3/envs/music/lib/python3.12/site-packages (from huggingface-hub<1.0,>=0.26.0->transformers) (4.12.2)\n"
      ]
     },
     "metadata": {},
     "output_type": "display_data"
    },
    {
     "data": {
      "text/html": [
       "<pre style=\"white-space:pre;overflow-x:auto;line-height:normal;font-family:Menlo,'DejaVu Sans Mono',consolas,'Courier New',monospace\">Requirement already satisfied: charset-normalizer&lt;4,&gt;=2 in /opt/anaconda3/envs/music/lib/python3.12/site-packages (from requests-&gt;transformers) (3.4.1)\n",
       "</pre>\n"
      ],
      "text/plain": [
       "Requirement already satisfied: charset-normalizer<4,>=2 in /opt/anaconda3/envs/music/lib/python3.12/site-packages (from requests->transformers) (3.4.1)\n"
      ]
     },
     "metadata": {},
     "output_type": "display_data"
    },
    {
     "data": {
      "text/html": [
       "<pre style=\"white-space:pre;overflow-x:auto;line-height:normal;font-family:Menlo,'DejaVu Sans Mono',consolas,'Courier New',monospace\">Requirement already satisfied: idna&lt;4,&gt;=2.5 in /opt/anaconda3/envs/music/lib/python3.12/site-packages (from requests-&gt;transformers) (3.10)\n",
       "</pre>\n"
      ],
      "text/plain": [
       "Requirement already satisfied: idna<4,>=2.5 in /opt/anaconda3/envs/music/lib/python3.12/site-packages (from requests->transformers) (3.10)\n"
      ]
     },
     "metadata": {},
     "output_type": "display_data"
    },
    {
     "data": {
      "text/html": [
       "<pre style=\"white-space:pre;overflow-x:auto;line-height:normal;font-family:Menlo,'DejaVu Sans Mono',consolas,'Courier New',monospace\">Requirement already satisfied: urllib3&lt;3,&gt;=1.21.1 in /opt/anaconda3/envs/music/lib/python3.12/site-packages (from requests-&gt;transformers) (2.3.0)\n",
       "</pre>\n"
      ],
      "text/plain": [
       "Requirement already satisfied: urllib3<3,>=1.21.1 in /opt/anaconda3/envs/music/lib/python3.12/site-packages (from requests->transformers) (2.3.0)\n"
      ]
     },
     "metadata": {},
     "output_type": "display_data"
    },
    {
     "data": {
      "text/html": [
       "<pre style=\"white-space:pre;overflow-x:auto;line-height:normal;font-family:Menlo,'DejaVu Sans Mono',consolas,'Courier New',monospace\">Requirement already satisfied: certifi&gt;=2017.4.17 in /opt/anaconda3/envs/music/lib/python3.12/site-packages (from requests-&gt;transformers) (2025.1.31)\n",
       "</pre>\n"
      ],
      "text/plain": [
       "Requirement already satisfied: certifi>=2017.4.17 in /opt/anaconda3/envs/music/lib/python3.12/site-packages (from requests->transformers) (2025.1.31)\n"
      ]
     },
     "metadata": {},
     "output_type": "display_data"
    },
    {
     "data": {
      "text/html": [
       "<pre style=\"white-space:pre;overflow-x:auto;line-height:normal;font-family:Menlo,'DejaVu Sans Mono',consolas,'Courier New',monospace\">Requirement already satisfied: sympy&gt;=1.13.3 in /opt/anaconda3/envs/music/lib/python3.12/site-packages (from torch&gt;=1.13.0-&gt;peft) (1.14.0rc1)\n",
       "</pre>\n"
      ],
      "text/plain": [
       "Requirement already satisfied: sympy>=1.13.3 in /opt/anaconda3/envs/music/lib/python3.12/site-packages (from torch>=1.13.0->peft) (1.14.0rc1)\n"
      ]
     },
     "metadata": {},
     "output_type": "display_data"
    },
    {
     "data": {
      "text/html": [
       "<pre style=\"white-space:pre;overflow-x:auto;line-height:normal;font-family:Menlo,'DejaVu Sans Mono',consolas,'Courier New',monospace\">Requirement already satisfied: networkx in /opt/anaconda3/envs/music/lib/python3.12/site-packages (from torch&gt;=1.13.0-&gt;peft) (3.4.2)\n",
       "</pre>\n"
      ],
      "text/plain": [
       "Requirement already satisfied: networkx in /opt/anaconda3/envs/music/lib/python3.12/site-packages (from torch>=1.13.0->peft) (3.4.2)\n"
      ]
     },
     "metadata": {},
     "output_type": "display_data"
    },
    {
     "data": {
      "text/html": [
       "<pre style=\"white-space:pre;overflow-x:auto;line-height:normal;font-family:Menlo,'DejaVu Sans Mono',consolas,'Courier New',monospace\">Requirement already satisfied: jinja2 in /opt/anaconda3/envs/music/lib/python3.12/site-packages (from torch&gt;=1.13.0-&gt;peft) (3.1.6)\n",
       "</pre>\n"
      ],
      "text/plain": [
       "Requirement already satisfied: jinja2 in /opt/anaconda3/envs/music/lib/python3.12/site-packages (from torch>=1.13.0->peft) (3.1.6)\n"
      ]
     },
     "metadata": {},
     "output_type": "display_data"
    },
    {
     "data": {
      "text/html": [
       "<pre style=\"white-space:pre;overflow-x:auto;line-height:normal;font-family:Menlo,'DejaVu Sans Mono',consolas,'Courier New',monospace\">Requirement already satisfied: MarkupSafe&gt;=2.1.1 in /opt/anaconda3/envs/music/lib/python3.12/site-packages (from werkzeug&gt;=1.0.1-&gt;tensorboard) (3.0.2)\n",
       "</pre>\n"
      ],
      "text/plain": [
       "Requirement already satisfied: MarkupSafe>=2.1.1 in /opt/anaconda3/envs/music/lib/python3.12/site-packages (from werkzeug>=1.0.1->tensorboard) (3.0.2)\n"
      ]
     },
     "metadata": {},
     "output_type": "display_data"
    },
    {
     "data": {
      "text/html": [
       "<pre style=\"white-space:pre;overflow-x:auto;line-height:normal;font-family:Menlo,'DejaVu Sans Mono',consolas,'Courier New',monospace\">Requirement already satisfied: python-dateutil&gt;=2.8.2 in /opt/anaconda3/envs/music/lib/python3.12/site-packages (from pandas-&gt;datasets) (2.9.0.post0)\n",
       "</pre>\n"
      ],
      "text/plain": [
       "Requirement already satisfied: python-dateutil>=2.8.2 in /opt/anaconda3/envs/music/lib/python3.12/site-packages (from pandas->datasets) (2.9.0.post0)\n"
      ]
     },
     "metadata": {},
     "output_type": "display_data"
    },
    {
     "data": {
      "text/html": [
       "<pre style=\"white-space:pre;overflow-x:auto;line-height:normal;font-family:Menlo,'DejaVu Sans Mono',consolas,'Courier New',monospace\">Requirement already satisfied: pytz&gt;=2020.1 in /opt/anaconda3/envs/music/lib/python3.12/site-packages (from pandas-&gt;datasets) (2025.1)\n",
       "</pre>\n"
      ],
      "text/plain": [
       "Requirement already satisfied: pytz>=2020.1 in /opt/anaconda3/envs/music/lib/python3.12/site-packages (from pandas->datasets) (2025.1)\n"
      ]
     },
     "metadata": {},
     "output_type": "display_data"
    },
    {
     "data": {
      "text/html": [
       "<pre style=\"white-space:pre;overflow-x:auto;line-height:normal;font-family:Menlo,'DejaVu Sans Mono',consolas,'Courier New',monospace\">Requirement already satisfied: tzdata&gt;=2022.7 in /opt/anaconda3/envs/music/lib/python3.12/site-packages (from pandas-&gt;datasets) (2025.1)\n",
       "</pre>\n"
      ],
      "text/plain": [
       "Requirement already satisfied: tzdata>=2022.7 in /opt/anaconda3/envs/music/lib/python3.12/site-packages (from pandas->datasets) (2025.1)\n"
      ]
     },
     "metadata": {},
     "output_type": "display_data"
    },
    {
     "data": {
      "text/html": [
       "<pre style=\"white-space:pre;overflow-x:auto;line-height:normal;font-family:Menlo,'DejaVu Sans Mono',consolas,'Courier New',monospace\">Requirement already satisfied: mpmath&gt;=1.1.0 in /opt/anaconda3/envs/music/lib/python3.12/site-packages (from sympy&gt;=1.13.3-&gt;torch&gt;=1.13.0-&gt;peft) (1.3.0)\n",
       "</pre>\n"
      ],
      "text/plain": [
       "Requirement already satisfied: mpmath>=1.1.0 in /opt/anaconda3/envs/music/lib/python3.12/site-packages (from sympy>=1.13.3->torch>=1.13.0->peft) (1.3.0)\n"
      ]
     },
     "metadata": {},
     "output_type": "display_data"
    },
    {
     "name": "stdout",
     "output_type": "stream",
     "text": [
      "Loading model with MPS acceleration...\n",
      "LoRA applied successfully\n",
      "trainable params: 3,244,032 || all params: 226,126,080 || trainable%: 1.4346\n"
     ]
    },
    {
     "data": {
      "application/vnd.jupyter.widget-view+json": {
       "model_id": "4fd12dc70535400d83921dbbdc33d2c0",
       "version_major": 2,
       "version_minor": 0
      },
      "text/plain": [
       "Map:   0%|          | 0/2300 [00:00<?, ? examples/s]"
      ]
     },
     "metadata": {},
     "output_type": "display_data"
    },
    {
     "data": {
      "application/vnd.jupyter.widget-view+json": {
       "model_id": "a4a75349611844d8bdfea1277ce04474",
       "version_major": 2,
       "version_minor": 0
      },
      "text/plain": [
       "Map:   0%|          | 0/2300 [00:00<?, ? examples/s]"
      ]
     },
     "metadata": {},
     "output_type": "display_data"
    },
    {
     "name": "stderr",
     "output_type": "stream",
     "text": [
      "/opt/anaconda3/envs/music/lib/python3.12/site-packages/transformers/training_args.py:1594: FutureWarning: `evaluation_strategy` is deprecated and will be removed in version 4.46 of 🤗 Transformers. Use `eval_strategy` instead\n",
      "  warnings.warn(\n",
      "/var/folders/bm/q0yfv9ks3z142swybklvy6p40000gn/T/ipykernel_6259/3893515944.py:138: FutureWarning: `tokenizer` is deprecated and will be removed in version 5.0.0 for `Seq2SeqTrainer.__init__`. Use `processing_class` instead.\n",
      "  trainer = Seq2SeqTrainer(\n",
      "No label_names provided for model class `PeftModelForSeq2SeqLM`. Since `PeftModel` hides base models input arguments, if label_names is not given, label_names can't be set automatically within `Trainer`. Note that empty label_names list will be used instead.\n",
      "Passing a tuple of `past_key_values` is deprecated and will be removed in Transformers v4.48.0. You should pass an instance of `EncoderDecoderCache` instead, e.g. `past_key_values=EncoderDecoderCache.from_legacy_cache(past_key_values)`.\n"
     ]
    },
    {
     "data": {
      "text/html": [
       "\n",
       "    <div>\n",
       "      \n",
       "      <progress value='213' max='213' style='width:300px; height:20px; vertical-align: middle;'></progress>\n",
       "      [213/213 1:50:52, Epoch 2/3]\n",
       "    </div>\n",
       "    <table border=\"1\" class=\"dataframe\">\n",
       "  <thead>\n",
       " <tr style=\"text-align: left;\">\n",
       "      <th>Epoch</th>\n",
       "      <th>Training Loss</th>\n",
       "      <th>Validation Loss</th>\n",
       "    </tr>\n",
       "  </thead>\n",
       "  <tbody>\n",
       "    <tr>\n",
       "      <td>0</td>\n",
       "      <td>3.809900</td>\n",
       "      <td>3.652344</td>\n",
       "    </tr>\n",
       "    <tr>\n",
       "      <td>1</td>\n",
       "      <td>3.581300</td>\n",
       "      <td>3.455078</td>\n",
       "    </tr>\n",
       "    <tr>\n",
       "      <td>2</td>\n",
       "      <td>3.524700</td>\n",
       "      <td>3.361328</td>\n",
       "    </tr>\n",
       "  </tbody>\n",
       "</table><p>"
      ],
      "text/plain": [
       "<IPython.core.display.HTML object>"
      ]
     },
     "metadata": {},
     "output_type": "display_data"
    },
    {
     "name": "stdout",
     "output_type": "stream",
     "text": [
      "Evaluating fine-tuned model...\n",
      "Example 1:\n",
      "Code:   def test_timewindows(database):\n",
      "        \n",
      "-     # clear the database before running this test\n",
      "-    ...\n",
      "Expected: - unit tests for addNewTW and getFirstTWforProfile\n",
      "+ unit tests for addNewTW ,getLastTWforProfile and getFirstTWforProfile\n",
      "?                         +++++++++++++++++++++\n",
      "\n",
      "Generated: - Tests the timewindows for a profile.\n",
      "+ Tests the timewindows for a profile.\n",
      "?                            ++++++  ++++++\n",
      "\n",
      "      Tests the timewindows for a profile.\n",
      "?                            ++++++  ++++++\n",
      "\n",
      "      Tests the timewindows for a profile.\n",
      "?                            ++++++  ++++++\n",
      "\n",
      "      Tests the timewindows for a profile.\n",
      "?                            ++++++  ++++++\n",
      "\n",
      "      Tests the timewindows for a profile.\n",
      "?                            ++++++  ++++++\n",
      "\n",
      "      Tests\n",
      "--------------------------------------------------\n",
      "Example 2:\n",
      "Code:   def test_getProfileIdFromIP():\n",
      "      \n",
      "  \n",
      "      # clear the database before running this test\n",
      "     ...\n",
      "Expected: - unit test for addProfile and getProfileIdFromIP\n",
      "?                  ^\n",
      "\n",
      "+ unit test for add_profile and getProfileIdFromIP\n",
      "?                  ^^\n",
      "\n",
      "Generated:   Test that the profile id is returned from the database\n",
      "  \n",
      "      :param test_ip: IP address of the test\n",
      "      :return: profile id\n",
      "      :rtype: int\n",
      "      :raises: ValueError\n",
      "      :raises: ValueError\n",
      "      :raises: ValueError\n",
      "      :raises: ValueError\n",
      "      :raises: ValueError\n",
      "      :raises: ValueError\n",
      "      :raises: ValueError\n",
      "      :raises: ValueError\n",
      "      :raises: ValueError\n",
      "      :raises: ValueError\n",
      "      :raises: ValueError\n",
      "      :raises: ValueError\n",
      "      :\n",
      "--------------------------------------------------\n",
      "Example 3:\n",
      "Code:   def get_directions(self, route, optimize):\n",
      "  \t\t\n",
      "  \t\t\n",
      "  \t\t\n",
      "  \t\tif not frappe.db.get_single_value(\"G...\n",
      "Expected:   Retrieve map directions for a given route and departure time.\n",
      "  \t\tIf optimize is `True`, Google Maps will return an optimized\n",
      "  \t\torder for the intermediate waypoints.\n",
      "  \n",
      "  \t\tNOTE: Google's API does take an additional `departure_time` key,\n",
      "  \t\tbut it only works for routes without any waypoints.\n",
      "  \n",
      "  \t\tArgs:\n",
      "- \t\t\troute (list of str): Route addresses (origin -> waypoint(s), if any -> destination)\n",
      "? \t\t^\n",
      "\n",
      "+ \t\t        route (list of str): Route addresses (origin -> waypoint(s), if any -> destination)\n",
      "? \t\t^^^^^^^^\n",
      "\n",
      "- \t\t\toptimize (bool): `True` if route needs to be optimized, else `False`\n",
      "? \t\t^\n",
      "\n",
      "+ \t\t        optimize (bool): `True` if route needs to be optimized, else `False`\n",
      "? \t\t^^^^^^^^\n",
      "\n",
      "  \n",
      "  \t\tReturns:\n",
      "- \t\t\t(dict): Route legs and, if `optimize` is `True`, optimized waypoint order\n",
      "? \t\t^\n",
      "\n",
      "+ \t\t        (dict): Route legs and, if `optimize` is `True`, optimized waypoint order\n",
      "? \t\t^^^^^^^^\n",
      "\n",
      "Generated: \n",
      "--------------------------------------------------\n"
     ]
    },
    {
     "name": "stderr",
     "output_type": "stream",
     "text": [
      "Token indices sequence length is longer than the specified maximum sequence length for this model (951 > 512). Running this sequence through the model will result in indexing errors\n"
     ]
    },
    {
     "name": "stdout",
     "output_type": "stream",
     "text": [
      "Example 4:\n",
      "Code: - def determine_observer_insert_points(self, model):\n",
      "+ def determine_observer_insert_points(self, mo...\n",
      "Expected:   r\"\"\"\n",
      "-         There is no observers inserted for the PerChannelDetector\n",
      "+         There is no observers inserted for the PerChannelDetector.\n",
      "?                                                                  +\n",
      "\n",
      "+ \n",
      "+         Returns an empty dictionary since no observers are added or needed\n",
      "Generated:   Determine the number of observers inserted in the PerChannelDetector.\n",
      "  \n",
      "          Parameters\n",
      "          ----------\n",
      "          model : nn.Module\n",
      "              The model to be detected.\n",
      "  \n",
      "          Returns\n",
      "          -------\n",
      "          num_observers : int\n",
      "              The number of observers inserted in the PerChannelDetector.\n",
      "  \n",
      "          Raises\n",
      "          ------\n",
      "          ValueError\n",
      "              If the model is not a valid model.\n",
      "  \n",
      "          Raises\n",
      "          ------\n",
      "          ValueError\n",
      "              If the model is not a valid model.\n",
      "  \n",
      "          Raises\n",
      "          ------\n",
      "          ValueError\n",
      "              If the model is not a valid model.\n",
      "--------------------------------------------------\n",
      "Example 5:\n",
      "Code:   def generate_detector_report(self, model: GraphModule) -> Tuple[str, Dict[str, Any]]:\n",
      "          \n",
      " ...\n",
      "Expected:   r\"\"\"\n",
      "          Determines whether input weight equalization is appropriate for a given module.\n",
      "  \n",
      "          Takes advantage of the ModelReport Observer which records per channel information of input range\n",
      "          It then uses the passed in weight info inconjunction to compute the desired ratio\n",
      "          Finally, it gives suggestions based on this information for each module of interest\n",
      "  \n",
      "          Args:\n",
      "              model (GraphModule): The prepared and calibrated GraphModule with inserted ModelReportObservers\n",
      "-             weight_info (Dict): Maps modules of interest to information on their weights to be analyzed\n",
      "  \n",
      "          Returns a tuple with two elements:\n",
      "              String report of of whether input weight equalization is recommended for certain modules\n",
      "              Dictionary mapping modules of interest to:\n",
      "                  whether input weight equalization is recommended\n",
      "                  their s_c metric compared to the threshold\n",
      "                  the threshold used to make the recommendation\n",
      "                  the channel used for recording data\n",
      "                  the input channel range info\n",
      "                  the weight channel range info\n",
      "Generated:   Generate a report for the detector.\n",
      "  \n",
      "          Parameters\n",
      "          ----------\n",
      "          model : GraphModule\n",
      "              The graph module to report.\n",
      "  \n",
      "          Returns\n",
      "          -------\n",
      "          str\n",
      "              The report string.\n",
      "  \n",
      "          Raises\n",
      "          ------\n",
      "          ValueError\n",
      "              If the input and weight are not in the same range.\n",
      "  \n",
      "          Raises\n",
      "          ------\n",
      "          ValueError\n",
      "              If the input and weight are not in the same range.\n",
      "  \n",
      "          Raises\n",
      "          ------\n",
      "          ValueError\n",
      "              If the input and weight are not in the same range.\n",
      "  \n",
      "          Raises\n",
      "          ------\n",
      "         \n",
      "--------------------------------------------------\n",
      "Test Results: {'status': 'Evaluation complete'}\n",
      "Loading model with MPS acceleration...\n",
      "Generated comment:     Calculate the average of the numbers.\n",
      "    \n",
      "        :param numbers: A list of numbers.\n",
      "        :return: The average of the numbers.\n",
      "    \n",
      "        :rtype: float\n",
      "    \n",
      "        \"\"\"\n",
      "        return calculate_average(numbers)\n",
      "\n"
     ]
    }
   ],
   "source": [
    "# Check if running on Apple Silicon\n",
    "is_apple_silicon = platform.processor() == 'arm' or \"Apple\" in platform.processor()\n",
    "print(f\"Running on Apple Silicon: {is_apple_silicon}\")\n",
    "\n",
    "# Check if MPS is available\n",
    "mps_available = hasattr(torch.backends, \"mps\") and torch.backends.mps.is_available()\n",
    "device = torch.device(\"mps\" if mps_available else \"cpu\")\n",
    "print(f\"Using device: {device}\")\n",
    "\n",
    "# 1. Load and prepare your dataset\n",
    "def load_dataset(file_path):\n",
    "    test_file = '../data/raw/test.jsonl'\n",
    "    train_file = '../data/raw/train.jsonl'\n",
    "\n",
    "    test_df = pd.read_json(test_file, lines=True)\n",
    "    train_df = pd.read_json(train_file, lines=True)    \n",
    "\n",
    "    # # Split into train/validation/test\n",
    "    # train_df, test_df = train_test_split(df, test_size=0.2, random_state=42)\n",
    "    # train_df, val_df = train_test_split(train_df, test_size=0.1, random_state=42)\n",
    "    \n",
    "    # Convert to Hugging Face datasets\n",
    "    # train_dataset = Dataset.from_pandas(train_df)\n",
    "    # val_dataset = Dataset.from_pandas(val_df)\n",
    "    # test_dataset = Dataset.from_pandas(test_df)\n",
    "    train_dataset = Dataset.from_pandas(train_df)\n",
    "    val_dataset = Dataset.from_pandas(train_df)\n",
    "    test_dataset = Dataset.from_pandas(test_df)\n",
    "    \n",
    "    return train_dataset, val_dataset, test_dataset\n",
    "\n",
    "# 2. Tokenization functions\n",
    "def preprocess_function(examples, tokenizer, max_input_length=512, max_target_length=128):\n",
    "    inputs = examples['diff_code']\n",
    "    targets = examples['diff_docstring']\n",
    "    \n",
    "    # Add a prefix to help the model understand the task\n",
    "    model_inputs = tokenizer(\n",
    "        [\"Generate a comment for this code: \" + code for code in inputs],\n",
    "        max_length=max_input_length,\n",
    "        truncation=True,\n",
    "        padding=\"max_length\",\n",
    "    )\n",
    "    \n",
    "    # Tokenize targets\n",
    "    labels = tokenizer(\n",
    "        targets, \n",
    "        max_length=max_target_length, \n",
    "        truncation=True,\n",
    "        padding=\"max_length\"\n",
    "    )\n",
    "    \n",
    "    model_inputs[\"labels\"] = labels[\"input_ids\"]\n",
    "    return model_inputs\n",
    "\n",
    "# 3. Main fine-tuning function using standard MPS for Apple Silicon\n",
    "def finetune_code_comment_model(dataset_path, model_name=\"Salesforce/codet5p-220m\", output_dir=\"./code-comment-model\"):\n",
    "    # Load datasets\n",
    "    train_dataset, val_dataset, test_dataset = load_dataset(dataset_path)\n",
    "    \n",
    "    # Load tokenizer\n",
    "    tokenizer = AutoTokenizer.from_pretrained(model_name)\n",
    "    \n",
    "    # Load model with appropriate settings for Apple Silicon\n",
    "    if mps_available:\n",
    "        print(\"Loading model with MPS acceleration...\")\n",
    "        # Load model and convert to half precision for better performance on MPS\n",
    "        model = AutoModelForSeq2SeqLM.from_pretrained(model_name)\n",
    "        model = model.half().to(device)  # Half precision (fp16) for better MPS performance\n",
    "    else:\n",
    "        print(\"Loading standard model...\")\n",
    "        # model = AutoModelForSeq2SeqLM.from_pretrained(model_name).to(device)\n",
    "        model = AutoModelForSeq2SeqLM.from_pretrained(model_name)\n",
    "        model = model.half().to(device)\n",
    "    \n",
    "    # Define LoRA configuration\n",
    "    peft_config = LoraConfig(\n",
    "        task_type=TaskType.SEQ_2_SEQ_LM,\n",
    "        inference_mode=False,\n",
    "        r=8,  # rank (smaller rank = less memory)\n",
    "        lora_alpha=32,\n",
    "        lora_dropout=0.1,\n",
    "        # Target modules depend on the model architecture\n",
    "        target_modules=[\"q\", \"v\", \"k\", \"o\", \"wi\", \"wo\"],\n",
    "    )\n",
    "    \n",
    "    # Apply LoRA - wrap in try/except in case of compatibility issues\n",
    "    try:\n",
    "        model = get_peft_model(model, peft_config)\n",
    "        print(\"LoRA applied successfully\")\n",
    "        model.print_trainable_parameters()\n",
    "    except Exception as e:\n",
    "        print(f\"Couldn't apply LoRA: {e}\")\n",
    "        print(\"Continuing with full fine-tuning\")\n",
    "    \n",
    "    # Preprocess datasets\n",
    "    tokenized_train = train_dataset.map(\n",
    "        lambda examples: preprocess_function(examples, tokenizer),\n",
    "        batched=True\n",
    "    )\n",
    "    tokenized_val = val_dataset.map(\n",
    "        lambda examples: preprocess_function(examples, tokenizer),\n",
    "        batched=True\n",
    "    )\n",
    "    \n",
    "    # Data collator\n",
    "    data_collator = DataCollatorForSeq2Seq(\n",
    "        tokenizer=tokenizer,\n",
    "        model=model,\n",
    "        pad_to_multiple_of=8\n",
    "    )\n",
    "    \n",
    "    # Apple Silicon optimized training arguments\n",
    "    training_args = Seq2SeqTrainingArguments(\n",
    "        output_dir=output_dir,\n",
    "        evaluation_strategy=\"epoch\",\n",
    "        save_strategy=\"epoch\",\n",
    "        learning_rate=5e-5,\n",
    "        per_device_train_batch_size=4,  # Smaller batch size for Mac\n",
    "        per_device_eval_batch_size=4,\n",
    "        gradient_accumulation_steps=8,  # Larger gradient accumulation\n",
    "        weight_decay=0.01,\n",
    "        save_total_limit=3,\n",
    "        num_train_epochs=3,\n",
    "        predict_with_generate=True,\n",
    "        # fp16=mps_available,  # Use fp16 if MPS is available\n",
    "        fp16=False,  # Use fp16 if MPS is available\n",
    "        report_to=\"tensorboard\",\n",
    "        load_best_model_at_end=True,\n",
    "        logging_steps=10,\n",
    "        # Mac-specific optimizations\n",
    "        # dataloader_num_workers=max(1, os.cpu_count() // 2),\n",
    "        dataloader_num_workers=0,  # Change from max(1, os.cpu_count() // 2) to 0\n",
    "        dataloader_pin_memory=False,  # Disable for MPS\n",
    "    )\n",
    "    \n",
    "    # Initialize trainer\n",
    "    trainer = Seq2SeqTrainer(\n",
    "        model=model,\n",
    "        args=training_args,\n",
    "        train_dataset=tokenized_train,\n",
    "        eval_dataset=tokenized_val,\n",
    "        tokenizer=tokenizer,\n",
    "        data_collator=data_collator,\n",
    "    )\n",
    "    \n",
    "    # Fine-tune the model\n",
    "    trainer.train()\n",
    "    \n",
    "    # Save the model\n",
    "    model.save_pretrained(output_dir)\n",
    "    tokenizer.save_pretrained(output_dir)\n",
    "    \n",
    "    # Evaluate on test set\n",
    "    print(\"Evaluating fine-tuned model...\")\n",
    "    test_results = evaluate_model(model, tokenizer, test_dataset, device)\n",
    "    print(f\"Test Results: {test_results}\")\n",
    "    \n",
    "    return model, tokenizer\n",
    "\n",
    "# 4. Evaluation function\n",
    "def evaluate_model(model, tokenizer, test_dataset, device):\n",
    "    # A simple evaluation function\n",
    "    def generate_comment(code):\n",
    "        inputs = tokenizer(\"Generate a comment for this code: \" + code, return_tensors=\"pt\")\n",
    "        inputs = {k: v.to(device) for k, v in inputs.items()}\n",
    "        \n",
    "        outputs = model.generate(**inputs, max_length=128)\n",
    "        return tokenizer.decode(outputs[0], skip_special_tokens=True)\n",
    "    \n",
    "    # Generate comments for a few examples\n",
    "    examples = test_dataset.select(range(min(5, len(test_dataset))))\n",
    "    for i, example in enumerate(examples):\n",
    "        code = example['diff_code']\n",
    "        expected = example['diff_docstring']\n",
    "        generated = generate_comment(code)\n",
    "        \n",
    "        print(f\"Example {i+1}:\")\n",
    "        print(f\"Code: {code[:100]}...\")\n",
    "        print(f\"Expected: {expected}\")\n",
    "        print(f\"Generated: {generated}\")\n",
    "        print(\"-\" * 50)\n",
    "    \n",
    "    # Here you could implement proper evaluation metrics\n",
    "    return {\"status\": \"Evaluation complete\"}\n",
    "\n",
    "# 5. Load and use the model for inference\n",
    "def load_and_use_model(model_path):\n",
    "    # Check for MPS availability\n",
    "    mps_available = hasattr(torch.backends, \"mps\") and torch.backends.mps.is_available()\n",
    "    device = torch.device(\"mps\" if mps_available else \"cpu\")\n",
    "    \n",
    "    # Load tokenizer\n",
    "    tokenizer = AutoTokenizer.from_pretrained(model_path)\n",
    "    \n",
    "    # Load model with appropriate settings for Apple Silicon\n",
    "    if mps_available:\n",
    "        print(\"Loading model with MPS acceleration...\")\n",
    "        # For inference, using half precision offers good performance on MPS\n",
    "        model = AutoModelForSeq2SeqLM.from_pretrained(model_path).half().to(device)\n",
    "    else:\n",
    "        print(\"Loading standard model...\")\n",
    "        model = AutoModelForSeq2SeqLM.from_pretrained(model_path).to(device)\n",
    "    \n",
    "    # Example usage\n",
    "    code_snippet = \"\"\"\n",
    "    def calculate_average(numbers):\n",
    "        total = sum(numbers)\n",
    "        return total / len(numbers)\n",
    "    \"\"\"\n",
    "    \n",
    "    # Generate comment\n",
    "    inputs = tokenizer(\"Generate a comment for this code: \" + code_snippet, return_tensors=\"pt\")\n",
    "    inputs = {k: v.to(device) for k, v in inputs.items()}\n",
    "    \n",
    "    outputs = model.generate(**inputs, max_length=128)\n",
    "    generated_comment = tokenizer.decode(outputs[0], skip_special_tokens=True)\n",
    "    \n",
    "    print(f\"Generated comment: {generated_comment}\")\n",
    "    return model, tokenizer\n",
    "\n",
    "# 6. Install required packages\n",
    "def install_requirements():\n",
    "    try:\n",
    "        import pip\n",
    "        \n",
    "        # Install base requirements\n",
    "        pip.main(['install', 'transformers', 'datasets', 'peft', 'tensorboard', 'scikit-learn'])\n",
    "        \n",
    "        # Check for Apple Silicon\n",
    "        is_apple_silicon = platform.processor() == 'arm' or \"Apple\" in platform.processor()\n",
    "        \n",
    "        if is_apple_silicon:\n",
    "            # Install PyTorch with MPS support if not already installed\n",
    "            import torch\n",
    "            if not hasattr(torch.backends, \"mps\"):\n",
    "                print(\"Installing PyTorch with MPS support...\")\n",
    "                pip.main(['install', 'torch', 'torchvision', 'torchaudio'])\n",
    "                \n",
    "    except Exception as e:\n",
    "        print(f\"Error installing requirements: {e}\")\n",
    "        print(\"Please manually install required packages\")\n",
    "\n",
    "# 7. Usage example\n",
    "if __name__ == \"__main__\":\n",
    "    # Install required packages\n",
    "    install_requirements()\n",
    "    \n",
    "    # Replace with your dataset path\n",
    "    dataset_path = \"path/to/your/code_comment_dataset.csv\"\n",
    "    \n",
    "    # For Apple Silicon M1/M2/M3, use a smaller model for better performance\n",
    "    model, tokenizer = finetune_code_comment_model(\n",
    "        dataset_path=dataset_path,\n",
    "        model_name=\"Salesforce/codet5p-220m\",  # Use smaller model for better Mac performance\n",
    "        output_dir=\"./code-comment-mac-model\"\n",
    "    )\n",
    "    \n",
    "    # Load and use the model for inference\n",
    "    load_and_use_model(\"./code-comment-mac-model\")"
   ]
  }
 ],
 "metadata": {
  "kernelspec": {
   "display_name": "music",
   "language": "python",
   "name": "python3"
  },
  "language_info": {
   "codemirror_mode": {
    "name": "ipython",
    "version": 3
   },
   "file_extension": ".py",
   "mimetype": "text/x-python",
   "name": "python",
   "nbconvert_exporter": "python",
   "pygments_lexer": "ipython3",
   "version": "3.12.8"
  }
 },
 "nbformat": 4,
 "nbformat_minor": 5
}
