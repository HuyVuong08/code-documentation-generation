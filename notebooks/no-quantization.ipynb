{
 "cells": [
  {
   "cell_type": "code",
   "execution_count": 1,
   "id": "1d7741f7",
   "metadata": {},
   "outputs": [],
   "source": [
    "import pandas as pd\n",
    "import torch\n",
    "from datasets import Dataset\n",
    "from transformers import (\n",
    "    AutoModelForSeq2SeqLM,\n",
    "    AutoTokenizer,\n",
    "    DataCollatorForSeq2Seq,\n",
    "    Seq2SeqTrainingArguments,\n",
    "    Seq2SeqTrainer\n",
    ")\n",
    "from sklearn.model_selection import train_test_split\n",
    "from peft import (\n",
    "    get_peft_model,\n",
    "    LoraConfig,\n",
    "    TaskType\n",
    ")\n",
    "import os\n",
    "import platform"
   ]
  },
  {
   "cell_type": "code",
   "execution_count": 2,
   "id": "2e525df5",
   "metadata": {},
   "outputs": [
    {
     "data": {
      "text/html": [
       "<div>\n",
       "<style scoped>\n",
       "    .dataframe tbody tr th:only-of-type {\n",
       "        vertical-align: middle;\n",
       "    }\n",
       "\n",
       "    .dataframe tbody tr th {\n",
       "        vertical-align: top;\n",
       "    }\n",
       "\n",
       "    .dataframe thead th {\n",
       "        text-align: right;\n",
       "    }\n",
       "</style>\n",
       "<table border=\"1\" class=\"dataframe\">\n",
       "  <thead>\n",
       "    <tr style=\"text-align: right;\">\n",
       "      <th></th>\n",
       "      <th>file</th>\n",
       "      <th>function</th>\n",
       "      <th>version_data</th>\n",
       "      <th>diff_code</th>\n",
       "      <th>diff_docstring</th>\n",
       "      <th>whitespace_only_code</th>\n",
       "      <th>whitespace_only_docstring</th>\n",
       "      <th>file_path</th>\n",
       "      <th>filename</th>\n",
       "      <th>project</th>\n",
       "      <th>owner</th>\n",
       "    </tr>\n",
       "  </thead>\n",
       "  <tbody>\n",
       "    <tr>\n",
       "      <th>0</th>\n",
       "      <td>tests_test_database.py</td>\n",
       "      <td>test_timewindows</td>\n",
       "      <td>[{'commit_date_time': '2021-08-09 21:00:11+02:...</td>\n",
       "      <td>def test_timewindows(database):\\n        \\n-...</td>\n",
       "      <td>- unit tests for addNewTW and getFirstTWforPro...</td>\n",
       "      <td>False</td>\n",
       "      <td>False</td>\n",
       "      <td>tests/test_database.py</td>\n",
       "      <td>test_database.py</td>\n",
       "      <td>StratosphereLinuxIPS</td>\n",
       "      <td>stratosphereips</td>\n",
       "    </tr>\n",
       "    <tr>\n",
       "      <th>1</th>\n",
       "      <td>tests_test_database.py</td>\n",
       "      <td>test_getProfileIdFromIP</td>\n",
       "      <td>[{'commit_date_time': '2024-01-27 22:28:53+02:...</td>\n",
       "      <td>def test_getProfileIdFromIP():\\n      \\n  \\n...</td>\n",
       "      <td>- unit test for addProfile and getProfileIdFro...</td>\n",
       "      <td>False</td>\n",
       "      <td>False</td>\n",
       "      <td>tests/test_database.py</td>\n",
       "      <td>test_database.py</td>\n",
       "      <td>StratosphereLinuxIPS</td>\n",
       "      <td>stratosphereips</td>\n",
       "    </tr>\n",
       "    <tr>\n",
       "      <th>2</th>\n",
       "      <td>erpnext_stock_doctype_delivery_trip_delivery_t...</td>\n",
       "      <td>DeliveryTrip.get_directions</td>\n",
       "      <td>[{'commit_date_time': '2021-11-05 11:16:29+05:...</td>\n",
       "      <td>def get_directions(self, route, optimize):\\n...</td>\n",
       "      <td>Retrieve map directions for a given route an...</td>\n",
       "      <td>False</td>\n",
       "      <td>False</td>\n",
       "      <td>erpnext/stock/doctype/delivery_trip/delivery_t...</td>\n",
       "      <td>delivery_trip.py</td>\n",
       "      <td>erpnext</td>\n",
       "      <td>frappe</td>\n",
       "    </tr>\n",
       "    <tr>\n",
       "      <th>3</th>\n",
       "      <td>torch_ao_quantization_fx__model_report_detecto...</td>\n",
       "      <td>PerChannelDetector.determine_observer_insert_p...</td>\n",
       "      <td>[{'commit_date_time': '2022-06-22 12:41:22+00:...</td>\n",
       "      <td>- def determine_observer_insert_points(self, m...</td>\n",
       "      <td>r\"\"\"\\n-         There is no observers insert...</td>\n",
       "      <td>False</td>\n",
       "      <td>False</td>\n",
       "      <td>torch/ao/quantization/fx/_model_report/detecto...</td>\n",
       "      <td>detector.py</td>\n",
       "      <td>pytorch</td>\n",
       "      <td>pytorch</td>\n",
       "    </tr>\n",
       "    <tr>\n",
       "      <th>4</th>\n",
       "      <td>torch_ao_quantization_fx__model_report_detecto...</td>\n",
       "      <td>InputWeightEqualizationDetector.generate_detec...</td>\n",
       "      <td>[{'commit_date_time': '2022-12-16 08:09:33+00:...</td>\n",
       "      <td>def generate_detector_report(self, model: Gr...</td>\n",
       "      <td>r\"\"\"\\n          Determines whether input wei...</td>\n",
       "      <td>False</td>\n",
       "      <td>False</td>\n",
       "      <td>torch/ao/quantization/fx/_model_report/detecto...</td>\n",
       "      <td>detector.py</td>\n",
       "      <td>pytorch</td>\n",
       "      <td>pytorch</td>\n",
       "    </tr>\n",
       "    <tr>\n",
       "      <th>...</th>\n",
       "      <td>...</td>\n",
       "      <td>...</td>\n",
       "      <td>...</td>\n",
       "      <td>...</td>\n",
       "      <td>...</td>\n",
       "      <td>...</td>\n",
       "      <td>...</td>\n",
       "      <td>...</td>\n",
       "      <td>...</td>\n",
       "      <td>...</td>\n",
       "      <td>...</td>\n",
       "    </tr>\n",
       "    <tr>\n",
       "      <th>2268</th>\n",
       "      <td>zipline_algorithm.py</td>\n",
       "      <td>TradingAlgorithm.order_target_value</td>\n",
       "      <td>[{'commit_date_time': '2015-06-11 10:14:07-04:...</td>\n",
       "      <td>def order_target_value(self, sid, target,\\n ...</td>\n",
       "      <td>Place an order to adjust a position to a tar...</td>\n",
       "      <td>False</td>\n",
       "      <td>False</td>\n",
       "      <td>zipline/algorithm.py</td>\n",
       "      <td>algorithm.py</td>\n",
       "      <td>zipline</td>\n",
       "      <td>quantopian</td>\n",
       "    </tr>\n",
       "    <tr>\n",
       "      <th>2269</th>\n",
       "      <td>zipline_algorithm.py</td>\n",
       "      <td>TradingAlgorithm._create_generator</td>\n",
       "      <td>[{'commit_date_time': '2013-03-20 12:12:33-04:...</td>\n",
       "      <td>- def _create_generator(self, sim_params):\\n+ ...</td>\n",
       "      <td>Create a basic generator setup using the sou...</td>\n",
       "      <td>False</td>\n",
       "      <td>False</td>\n",
       "      <td>zipline/algorithm.py</td>\n",
       "      <td>algorithm.py</td>\n",
       "      <td>zipline</td>\n",
       "      <td>quantopian</td>\n",
       "    </tr>\n",
       "    <tr>\n",
       "      <th>2270</th>\n",
       "      <td>zipline_algorithm.py</td>\n",
       "      <td>TradingAlgorithm.symbol</td>\n",
       "      <td>[{'commit_date_time': '2018-07-18 10:14:07-04:...</td>\n",
       "      <td>- def symbol(self, symbol_str):\\n+ def symbol(...</td>\n",
       "      <td>Lookup an Equity by its ticker symbol.\\n  \\n...</td>\n",
       "      <td>False</td>\n",
       "      <td>False</td>\n",
       "      <td>zipline/algorithm.py</td>\n",
       "      <td>algorithm.py</td>\n",
       "      <td>zipline</td>\n",
       "      <td>quantopian</td>\n",
       "    </tr>\n",
       "    <tr>\n",
       "      <th>2271</th>\n",
       "      <td>zipline_algorithm.py</td>\n",
       "      <td>TradingAlgorithm.continuous_future</td>\n",
       "      <td>[{'commit_date_time': '2017-03-29 08:49:12-04:...</td>\n",
       "      <td>def continuous_future(self,\\n               ...</td>\n",
       "      <td>Create a specifier for a continuous contract...</td>\n",
       "      <td>False</td>\n",
       "      <td>False</td>\n",
       "      <td>zipline/algorithm.py</td>\n",
       "      <td>algorithm.py</td>\n",
       "      <td>zipline</td>\n",
       "      <td>quantopian</td>\n",
       "    </tr>\n",
       "    <tr>\n",
       "      <th>2272</th>\n",
       "      <td>zipline_algorithm.py</td>\n",
       "      <td>TradingAlgorithm.order_percent</td>\n",
       "      <td>[{'commit_date_time': '2015-02-17 11:50:20-05:...</td>\n",
       "      <td>def order_percent(self, sid, percent,\\n+    ...</td>\n",
       "      <td>Place an order in the specified security cor...</td>\n",
       "      <td>False</td>\n",
       "      <td>False</td>\n",
       "      <td>zipline/algorithm.py</td>\n",
       "      <td>algorithm.py</td>\n",
       "      <td>zipline</td>\n",
       "      <td>quantopian</td>\n",
       "    </tr>\n",
       "  </tbody>\n",
       "</table>\n",
       "<p>2273 rows × 11 columns</p>\n",
       "</div>"
      ],
      "text/plain": [
       "                                                   file  \\\n",
       "0                                tests_test_database.py   \n",
       "1                                tests_test_database.py   \n",
       "2     erpnext_stock_doctype_delivery_trip_delivery_t...   \n",
       "3     torch_ao_quantization_fx__model_report_detecto...   \n",
       "4     torch_ao_quantization_fx__model_report_detecto...   \n",
       "...                                                 ...   \n",
       "2268                               zipline_algorithm.py   \n",
       "2269                               zipline_algorithm.py   \n",
       "2270                               zipline_algorithm.py   \n",
       "2271                               zipline_algorithm.py   \n",
       "2272                               zipline_algorithm.py   \n",
       "\n",
       "                                               function  \\\n",
       "0                                      test_timewindows   \n",
       "1                               test_getProfileIdFromIP   \n",
       "2                           DeliveryTrip.get_directions   \n",
       "3     PerChannelDetector.determine_observer_insert_p...   \n",
       "4     InputWeightEqualizationDetector.generate_detec...   \n",
       "...                                                 ...   \n",
       "2268                TradingAlgorithm.order_target_value   \n",
       "2269                 TradingAlgorithm._create_generator   \n",
       "2270                            TradingAlgorithm.symbol   \n",
       "2271                 TradingAlgorithm.continuous_future   \n",
       "2272                     TradingAlgorithm.order_percent   \n",
       "\n",
       "                                           version_data  \\\n",
       "0     [{'commit_date_time': '2021-08-09 21:00:11+02:...   \n",
       "1     [{'commit_date_time': '2024-01-27 22:28:53+02:...   \n",
       "2     [{'commit_date_time': '2021-11-05 11:16:29+05:...   \n",
       "3     [{'commit_date_time': '2022-06-22 12:41:22+00:...   \n",
       "4     [{'commit_date_time': '2022-12-16 08:09:33+00:...   \n",
       "...                                                 ...   \n",
       "2268  [{'commit_date_time': '2015-06-11 10:14:07-04:...   \n",
       "2269  [{'commit_date_time': '2013-03-20 12:12:33-04:...   \n",
       "2270  [{'commit_date_time': '2018-07-18 10:14:07-04:...   \n",
       "2271  [{'commit_date_time': '2017-03-29 08:49:12-04:...   \n",
       "2272  [{'commit_date_time': '2015-02-17 11:50:20-05:...   \n",
       "\n",
       "                                              diff_code  \\\n",
       "0       def test_timewindows(database):\\n        \\n-...   \n",
       "1       def test_getProfileIdFromIP():\\n      \\n  \\n...   \n",
       "2       def get_directions(self, route, optimize):\\n...   \n",
       "3     - def determine_observer_insert_points(self, m...   \n",
       "4       def generate_detector_report(self, model: Gr...   \n",
       "...                                                 ...   \n",
       "2268    def order_target_value(self, sid, target,\\n ...   \n",
       "2269  - def _create_generator(self, sim_params):\\n+ ...   \n",
       "2270  - def symbol(self, symbol_str):\\n+ def symbol(...   \n",
       "2271    def continuous_future(self,\\n               ...   \n",
       "2272    def order_percent(self, sid, percent,\\n+    ...   \n",
       "\n",
       "                                         diff_docstring  whitespace_only_code  \\\n",
       "0     - unit tests for addNewTW and getFirstTWforPro...                 False   \n",
       "1     - unit test for addProfile and getProfileIdFro...                 False   \n",
       "2       Retrieve map directions for a given route an...                 False   \n",
       "3       r\"\"\"\\n-         There is no observers insert...                 False   \n",
       "4       r\"\"\"\\n          Determines whether input wei...                 False   \n",
       "...                                                 ...                   ...   \n",
       "2268    Place an order to adjust a position to a tar...                 False   \n",
       "2269    Create a basic generator setup using the sou...                 False   \n",
       "2270    Lookup an Equity by its ticker symbol.\\n  \\n...                 False   \n",
       "2271    Create a specifier for a continuous contract...                 False   \n",
       "2272    Place an order in the specified security cor...                 False   \n",
       "\n",
       "      whitespace_only_docstring  \\\n",
       "0                         False   \n",
       "1                         False   \n",
       "2                         False   \n",
       "3                         False   \n",
       "4                         False   \n",
       "...                         ...   \n",
       "2268                      False   \n",
       "2269                      False   \n",
       "2270                      False   \n",
       "2271                      False   \n",
       "2272                      False   \n",
       "\n",
       "                                              file_path          filename  \\\n",
       "0                                tests/test_database.py  test_database.py   \n",
       "1                                tests/test_database.py  test_database.py   \n",
       "2     erpnext/stock/doctype/delivery_trip/delivery_t...  delivery_trip.py   \n",
       "3     torch/ao/quantization/fx/_model_report/detecto...       detector.py   \n",
       "4     torch/ao/quantization/fx/_model_report/detecto...       detector.py   \n",
       "...                                                 ...               ...   \n",
       "2268                               zipline/algorithm.py      algorithm.py   \n",
       "2269                               zipline/algorithm.py      algorithm.py   \n",
       "2270                               zipline/algorithm.py      algorithm.py   \n",
       "2271                               zipline/algorithm.py      algorithm.py   \n",
       "2272                               zipline/algorithm.py      algorithm.py   \n",
       "\n",
       "                   project            owner  \n",
       "0     StratosphereLinuxIPS  stratosphereips  \n",
       "1     StratosphereLinuxIPS  stratosphereips  \n",
       "2                  erpnext           frappe  \n",
       "3                  pytorch          pytorch  \n",
       "4                  pytorch          pytorch  \n",
       "...                    ...              ...  \n",
       "2268               zipline       quantopian  \n",
       "2269               zipline       quantopian  \n",
       "2270               zipline       quantopian  \n",
       "2271               zipline       quantopian  \n",
       "2272               zipline       quantopian  \n",
       "\n",
       "[2273 rows x 11 columns]"
      ]
     },
     "execution_count": 2,
     "metadata": {},
     "output_type": "execute_result"
    }
   ],
   "source": [
    "test_file = '../data/raw/test.jsonl'\n",
    "train_file = '../data/raw/train.jsonl'\n",
    "\n",
    "test_df = pd.read_json(test_file, lines=True)\n",
    "train_df = pd.read_json(train_file, lines=True)\n",
    "\n",
    "train_df\n",
    "test_df"
   ]
  },
  {
   "cell_type": "code",
   "execution_count": 4,
   "id": "37afc38e",
   "metadata": {},
   "outputs": [
    {
     "name": "stdout",
     "output_type": "stream",
     "text": [
      "Running on Apple Silicon: True\n",
      "Using device: mps\n"
     ]
    },
    {
     "name": "stderr",
     "output_type": "stream",
     "text": [
      "WARNING: pip is being invoked by an old script wrapper. This will fail in a future version of pip.\n",
      "Please see https://github.com/pypa/pip/issues/5599 for advice on fixing the underlying issue.\n",
      "To avoid this problem you can invoke Python with '-m pip' instead of running pip directly.\n"
     ]
    },
    {
     "data": {
      "text/html": [
       "<pre style=\"white-space:pre;overflow-x:auto;line-height:normal;font-family:Menlo,'DejaVu Sans Mono',consolas,'Courier New',monospace\">Requirement already satisfied: transformers in /opt/anaconda3/envs/music/lib/python3.12/site-packages (4.49.0)\n",
       "</pre>\n"
      ],
      "text/plain": [
       "Requirement already satisfied: transformers in /opt/anaconda3/envs/music/lib/python3.12/site-packages (4.49.0)\n"
      ]
     },
     "metadata": {},
     "output_type": "display_data"
    },
    {
     "data": {
      "text/html": [
       "<pre style=\"white-space:pre;overflow-x:auto;line-height:normal;font-family:Menlo,'DejaVu Sans Mono',consolas,'Courier New',monospace\">Requirement already satisfied: datasets in /opt/anaconda3/envs/music/lib/python3.12/site-packages (3.3.2)\n",
       "</pre>\n"
      ],
      "text/plain": [
       "Requirement already satisfied: datasets in /opt/anaconda3/envs/music/lib/python3.12/site-packages (3.3.2)\n"
      ]
     },
     "metadata": {},
     "output_type": "display_data"
    },
    {
     "data": {
      "text/html": [
       "<pre style=\"white-space:pre;overflow-x:auto;line-height:normal;font-family:Menlo,'DejaVu Sans Mono',consolas,'Courier New',monospace\">Requirement already satisfied: peft in /opt/anaconda3/envs/music/lib/python3.12/site-packages (0.15.2)\n",
       "</pre>\n"
      ],
      "text/plain": [
       "Requirement already satisfied: peft in /opt/anaconda3/envs/music/lib/python3.12/site-packages (0.15.2)\n"
      ]
     },
     "metadata": {},
     "output_type": "display_data"
    },
    {
     "data": {
      "text/html": [
       "<pre style=\"white-space:pre;overflow-x:auto;line-height:normal;font-family:Menlo,'DejaVu Sans Mono',consolas,'Courier New',monospace\">Requirement already satisfied: tensorboard in /opt/anaconda3/envs/music/lib/python3.12/site-packages (2.19.0)\n",
       "</pre>\n"
      ],
      "text/plain": [
       "Requirement already satisfied: tensorboard in /opt/anaconda3/envs/music/lib/python3.12/site-packages (2.19.0)\n"
      ]
     },
     "metadata": {},
     "output_type": "display_data"
    },
    {
     "data": {
      "text/html": [
       "<pre style=\"white-space:pre;overflow-x:auto;line-height:normal;font-family:Menlo,'DejaVu Sans Mono',consolas,'Courier New',monospace\">Requirement already satisfied: scikit-learn in /opt/anaconda3/envs/music/lib/python3.12/site-packages (1.6.1)\n",
       "</pre>\n"
      ],
      "text/plain": [
       "Requirement already satisfied: scikit-learn in /opt/anaconda3/envs/music/lib/python3.12/site-packages (1.6.1)\n"
      ]
     },
     "metadata": {},
     "output_type": "display_data"
    },
    {
     "data": {
      "text/html": [
       "<pre style=\"white-space:pre;overflow-x:auto;line-height:normal;font-family:Menlo,'DejaVu Sans Mono',consolas,'Courier New',monospace\">Requirement already satisfied: filelock in /opt/anaconda3/envs/music/lib/python3.12/site-packages (from transformers) (3.17.0)\n",
       "</pre>\n"
      ],
      "text/plain": [
       "Requirement already satisfied: filelock in /opt/anaconda3/envs/music/lib/python3.12/site-packages (from transformers) (3.17.0)\n"
      ]
     },
     "metadata": {},
     "output_type": "display_data"
    },
    {
     "data": {
      "text/html": [
       "<pre style=\"white-space:pre;overflow-x:auto;line-height:normal;font-family:Menlo,'DejaVu Sans Mono',consolas,'Courier New',monospace\">Requirement already satisfied: huggingface-hub&lt;1.0,&gt;=0.26.0 in /opt/anaconda3/envs/music/lib/python3.12/site-packages (from transformers) (0.29.3)\n",
       "</pre>\n"
      ],
      "text/plain": [
       "Requirement already satisfied: huggingface-hub<1.0,>=0.26.0 in /opt/anaconda3/envs/music/lib/python3.12/site-packages (from transformers) (0.29.3)\n"
      ]
     },
     "metadata": {},
     "output_type": "display_data"
    },
    {
     "data": {
      "text/html": [
       "<pre style=\"white-space:pre;overflow-x:auto;line-height:normal;font-family:Menlo,'DejaVu Sans Mono',consolas,'Courier New',monospace\">Requirement already satisfied: numpy&gt;=1.17 in /opt/anaconda3/envs/music/lib/python3.12/site-packages (from transformers) (2.1.3)\n",
       "</pre>\n"
      ],
      "text/plain": [
       "Requirement already satisfied: numpy>=1.17 in /opt/anaconda3/envs/music/lib/python3.12/site-packages (from transformers) (2.1.3)\n"
      ]
     },
     "metadata": {},
     "output_type": "display_data"
    },
    {
     "data": {
      "text/html": [
       "<pre style=\"white-space:pre;overflow-x:auto;line-height:normal;font-family:Menlo,'DejaVu Sans Mono',consolas,'Courier New',monospace\">Requirement already satisfied: packaging&gt;=20.0 in /opt/anaconda3/envs/music/lib/python3.12/site-packages (from transformers) (24.2)\n",
       "</pre>\n"
      ],
      "text/plain": [
       "Requirement already satisfied: packaging>=20.0 in /opt/anaconda3/envs/music/lib/python3.12/site-packages (from transformers) (24.2)\n"
      ]
     },
     "metadata": {},
     "output_type": "display_data"
    },
    {
     "data": {
      "text/html": [
       "<pre style=\"white-space:pre;overflow-x:auto;line-height:normal;font-family:Menlo,'DejaVu Sans Mono',consolas,'Courier New',monospace\">Requirement already satisfied: pyyaml&gt;=5.1 in /opt/anaconda3/envs/music/lib/python3.12/site-packages (from transformers) (6.0.2)\n",
       "</pre>\n"
      ],
      "text/plain": [
       "Requirement already satisfied: pyyaml>=5.1 in /opt/anaconda3/envs/music/lib/python3.12/site-packages (from transformers) (6.0.2)\n"
      ]
     },
     "metadata": {},
     "output_type": "display_data"
    },
    {
     "data": {
      "text/html": [
       "<pre style=\"white-space:pre;overflow-x:auto;line-height:normal;font-family:Menlo,'DejaVu Sans Mono',consolas,'Courier New',monospace\">Requirement already satisfied: regex!=2019.12.17 in /opt/anaconda3/envs/music/lib/python3.12/site-packages (from transformers) (2024.11.6)\n",
       "</pre>\n"
      ],
      "text/plain": [
       "Requirement already satisfied: regex!=2019.12.17 in /opt/anaconda3/envs/music/lib/python3.12/site-packages (from transformers) (2024.11.6)\n"
      ]
     },
     "metadata": {},
     "output_type": "display_data"
    },
    {
     "data": {
      "text/html": [
       "<pre style=\"white-space:pre;overflow-x:auto;line-height:normal;font-family:Menlo,'DejaVu Sans Mono',consolas,'Courier New',monospace\">Requirement already satisfied: requests in /opt/anaconda3/envs/music/lib/python3.12/site-packages (from transformers) (2.32.3)\n",
       "</pre>\n"
      ],
      "text/plain": [
       "Requirement already satisfied: requests in /opt/anaconda3/envs/music/lib/python3.12/site-packages (from transformers) (2.32.3)\n"
      ]
     },
     "metadata": {},
     "output_type": "display_data"
    },
    {
     "data": {
      "text/html": [
       "<pre style=\"white-space:pre;overflow-x:auto;line-height:normal;font-family:Menlo,'DejaVu Sans Mono',consolas,'Courier New',monospace\">Requirement already satisfied: tokenizers&lt;0.22,&gt;=0.21 in /opt/anaconda3/envs/music/lib/python3.12/site-packages (from transformers) (0.21.0)\n",
       "</pre>\n"
      ],
      "text/plain": [
       "Requirement already satisfied: tokenizers<0.22,>=0.21 in /opt/anaconda3/envs/music/lib/python3.12/site-packages (from transformers) (0.21.0)\n"
      ]
     },
     "metadata": {},
     "output_type": "display_data"
    },
    {
     "data": {
      "text/html": [
       "<pre style=\"white-space:pre;overflow-x:auto;line-height:normal;font-family:Menlo,'DejaVu Sans Mono',consolas,'Courier New',monospace\">Requirement already satisfied: safetensors&gt;=0.4.1 in /opt/anaconda3/envs/music/lib/python3.12/site-packages (from transformers) (0.5.3)\n",
       "</pre>\n"
      ],
      "text/plain": [
       "Requirement already satisfied: safetensors>=0.4.1 in /opt/anaconda3/envs/music/lib/python3.12/site-packages (from transformers) (0.5.3)\n"
      ]
     },
     "metadata": {},
     "output_type": "display_data"
    },
    {
     "data": {
      "text/html": [
       "<pre style=\"white-space:pre;overflow-x:auto;line-height:normal;font-family:Menlo,'DejaVu Sans Mono',consolas,'Courier New',monospace\">Requirement already satisfied: tqdm&gt;=4.27 in /opt/anaconda3/envs/music/lib/python3.12/site-packages (from transformers) (4.67.1)\n",
       "</pre>\n"
      ],
      "text/plain": [
       "Requirement already satisfied: tqdm>=4.27 in /opt/anaconda3/envs/music/lib/python3.12/site-packages (from transformers) (4.67.1)\n"
      ]
     },
     "metadata": {},
     "output_type": "display_data"
    },
    {
     "data": {
      "text/html": [
       "<pre style=\"white-space:pre;overflow-x:auto;line-height:normal;font-family:Menlo,'DejaVu Sans Mono',consolas,'Courier New',monospace\">Requirement already satisfied: pyarrow&gt;=15.0.0 in /opt/anaconda3/envs/music/lib/python3.12/site-packages (from datasets) (19.0.1)\n",
       "</pre>\n"
      ],
      "text/plain": [
       "Requirement already satisfied: pyarrow>=15.0.0 in /opt/anaconda3/envs/music/lib/python3.12/site-packages (from datasets) (19.0.1)\n"
      ]
     },
     "metadata": {},
     "output_type": "display_data"
    },
    {
     "data": {
      "text/html": [
       "<pre style=\"white-space:pre;overflow-x:auto;line-height:normal;font-family:Menlo,'DejaVu Sans Mono',consolas,'Courier New',monospace\">Requirement already satisfied: dill&lt;0.3.9,&gt;=0.3.0 in /opt/anaconda3/envs/music/lib/python3.12/site-packages (from datasets) (0.3.8)\n",
       "</pre>\n"
      ],
      "text/plain": [
       "Requirement already satisfied: dill<0.3.9,>=0.3.0 in /opt/anaconda3/envs/music/lib/python3.12/site-packages (from datasets) (0.3.8)\n"
      ]
     },
     "metadata": {},
     "output_type": "display_data"
    },
    {
     "data": {
      "text/html": [
       "<pre style=\"white-space:pre;overflow-x:auto;line-height:normal;font-family:Menlo,'DejaVu Sans Mono',consolas,'Courier New',monospace\">Requirement already satisfied: pandas in /opt/anaconda3/envs/music/lib/python3.12/site-packages (from datasets) (2.2.3)\n",
       "</pre>\n"
      ],
      "text/plain": [
       "Requirement already satisfied: pandas in /opt/anaconda3/envs/music/lib/python3.12/site-packages (from datasets) (2.2.3)\n"
      ]
     },
     "metadata": {},
     "output_type": "display_data"
    },
    {
     "data": {
      "text/html": [
       "<pre style=\"white-space:pre;overflow-x:auto;line-height:normal;font-family:Menlo,'DejaVu Sans Mono',consolas,'Courier New',monospace\">Requirement already satisfied: xxhash in /opt/anaconda3/envs/music/lib/python3.12/site-packages (from datasets) (3.5.0)\n",
       "</pre>\n"
      ],
      "text/plain": [
       "Requirement already satisfied: xxhash in /opt/anaconda3/envs/music/lib/python3.12/site-packages (from datasets) (3.5.0)\n"
      ]
     },
     "metadata": {},
     "output_type": "display_data"
    },
    {
     "data": {
      "text/html": [
       "<pre style=\"white-space:pre;overflow-x:auto;line-height:normal;font-family:Menlo,'DejaVu Sans Mono',consolas,'Courier New',monospace\">Requirement already satisfied: multiprocess&lt;0.70.17 in /opt/anaconda3/envs/music/lib/python3.12/site-packages (from datasets) (0.70.16)\n",
       "</pre>\n"
      ],
      "text/plain": [
       "Requirement already satisfied: multiprocess<0.70.17 in /opt/anaconda3/envs/music/lib/python3.12/site-packages (from datasets) (0.70.16)\n"
      ]
     },
     "metadata": {},
     "output_type": "display_data"
    },
    {
     "data": {
      "text/html": [
       "<pre style=\"white-space:pre;overflow-x:auto;line-height:normal;font-family:Menlo,'DejaVu Sans Mono',consolas,'Courier New',monospace\">Requirement already satisfied: fsspec&lt;=2024.12.0,&gt;=2023.1.0 in /opt/anaconda3/envs/music/lib/python3.12/site-packages (from fsspec[http]&lt;=2024.12.0,&gt;=2023.1.0-&gt;datasets) (2024.12.0)\n",
       "</pre>\n"
      ],
      "text/plain": [
       "Requirement already satisfied: fsspec<=2024.12.0,>=2023.1.0 in /opt/anaconda3/envs/music/lib/python3.12/site-packages (from fsspec[http]<=2024.12.0,>=2023.1.0->datasets) (2024.12.0)\n"
      ]
     },
     "metadata": {},
     "output_type": "display_data"
    },
    {
     "data": {
      "text/html": [
       "<pre style=\"white-space:pre;overflow-x:auto;line-height:normal;font-family:Menlo,'DejaVu Sans Mono',consolas,'Courier New',monospace\">Requirement already satisfied: aiohttp in /opt/anaconda3/envs/music/lib/python3.12/site-packages (from datasets) (3.11.13)\n",
       "</pre>\n"
      ],
      "text/plain": [
       "Requirement already satisfied: aiohttp in /opt/anaconda3/envs/music/lib/python3.12/site-packages (from datasets) (3.11.13)\n"
      ]
     },
     "metadata": {},
     "output_type": "display_data"
    },
    {
     "data": {
      "text/html": [
       "<pre style=\"white-space:pre;overflow-x:auto;line-height:normal;font-family:Menlo,'DejaVu Sans Mono',consolas,'Courier New',monospace\">Requirement already satisfied: psutil in /opt/anaconda3/envs/music/lib/python3.12/site-packages (from peft) (5.9.0)\n",
       "</pre>\n"
      ],
      "text/plain": [
       "Requirement already satisfied: psutil in /opt/anaconda3/envs/music/lib/python3.12/site-packages (from peft) (5.9.0)\n"
      ]
     },
     "metadata": {},
     "output_type": "display_data"
    },
    {
     "data": {
      "text/html": [
       "<pre style=\"white-space:pre;overflow-x:auto;line-height:normal;font-family:Menlo,'DejaVu Sans Mono',consolas,'Courier New',monospace\">Requirement already satisfied: torch&gt;=1.13.0 in /opt/anaconda3/envs/music/lib/python3.12/site-packages (from peft) (2.8.0.dev20250416)\n",
       "</pre>\n"
      ],
      "text/plain": [
       "Requirement already satisfied: torch>=1.13.0 in /opt/anaconda3/envs/music/lib/python3.12/site-packages (from peft) (2.8.0.dev20250416)\n"
      ]
     },
     "metadata": {},
     "output_type": "display_data"
    },
    {
     "data": {
      "text/html": [
       "<pre style=\"white-space:pre;overflow-x:auto;line-height:normal;font-family:Menlo,'DejaVu Sans Mono',consolas,'Courier New',monospace\">Requirement already satisfied: accelerate&gt;=0.21.0 in /opt/anaconda3/envs/music/lib/python3.12/site-packages (from peft) (1.6.0)\n",
       "</pre>\n"
      ],
      "text/plain": [
       "Requirement already satisfied: accelerate>=0.21.0 in /opt/anaconda3/envs/music/lib/python3.12/site-packages (from peft) (1.6.0)\n"
      ]
     },
     "metadata": {},
     "output_type": "display_data"
    },
    {
     "data": {
      "text/html": [
       "<pre style=\"white-space:pre;overflow-x:auto;line-height:normal;font-family:Menlo,'DejaVu Sans Mono',consolas,'Courier New',monospace\">Requirement already satisfied: absl-py&gt;=0.4 in /opt/anaconda3/envs/music/lib/python3.12/site-packages (from tensorboard) (2.2.2)\n",
       "</pre>\n"
      ],
      "text/plain": [
       "Requirement already satisfied: absl-py>=0.4 in /opt/anaconda3/envs/music/lib/python3.12/site-packages (from tensorboard) (2.2.2)\n"
      ]
     },
     "metadata": {},
     "output_type": "display_data"
    },
    {
     "data": {
      "text/html": [
       "<pre style=\"white-space:pre;overflow-x:auto;line-height:normal;font-family:Menlo,'DejaVu Sans Mono',consolas,'Courier New',monospace\">Requirement already satisfied: grpcio&gt;=1.48.2 in /opt/anaconda3/envs/music/lib/python3.12/site-packages (from tensorboard) (1.71.0)\n",
       "</pre>\n"
      ],
      "text/plain": [
       "Requirement already satisfied: grpcio>=1.48.2 in /opt/anaconda3/envs/music/lib/python3.12/site-packages (from tensorboard) (1.71.0)\n"
      ]
     },
     "metadata": {},
     "output_type": "display_data"
    },
    {
     "data": {
      "text/html": [
       "<pre style=\"white-space:pre;overflow-x:auto;line-height:normal;font-family:Menlo,'DejaVu Sans Mono',consolas,'Courier New',monospace\">Requirement already satisfied: markdown&gt;=2.6.8 in /opt/anaconda3/envs/music/lib/python3.12/site-packages (from tensorboard) (3.8)\n",
       "</pre>\n"
      ],
      "text/plain": [
       "Requirement already satisfied: markdown>=2.6.8 in /opt/anaconda3/envs/music/lib/python3.12/site-packages (from tensorboard) (3.8)\n"
      ]
     },
     "metadata": {},
     "output_type": "display_data"
    },
    {
     "data": {
      "text/html": [
       "<pre style=\"white-space:pre;overflow-x:auto;line-height:normal;font-family:Menlo,'DejaVu Sans Mono',consolas,'Courier New',monospace\">Requirement already satisfied: protobuf!=4.24.0,&gt;=3.19.6 in /opt/anaconda3/envs/music/lib/python3.12/site-packages (from tensorboard) (6.30.2)\n",
       "</pre>\n"
      ],
      "text/plain": [
       "Requirement already satisfied: protobuf!=4.24.0,>=3.19.6 in /opt/anaconda3/envs/music/lib/python3.12/site-packages (from tensorboard) (6.30.2)\n"
      ]
     },
     "metadata": {},
     "output_type": "display_data"
    },
    {
     "data": {
      "text/html": [
       "<pre style=\"white-space:pre;overflow-x:auto;line-height:normal;font-family:Menlo,'DejaVu Sans Mono',consolas,'Courier New',monospace\">Requirement already satisfied: setuptools&gt;=41.0.0 in /opt/anaconda3/envs/music/lib/python3.12/site-packages (from tensorboard) (75.8.0)\n",
       "</pre>\n"
      ],
      "text/plain": [
       "Requirement already satisfied: setuptools>=41.0.0 in /opt/anaconda3/envs/music/lib/python3.12/site-packages (from tensorboard) (75.8.0)\n"
      ]
     },
     "metadata": {},
     "output_type": "display_data"
    },
    {
     "data": {
      "text/html": [
       "<pre style=\"white-space:pre;overflow-x:auto;line-height:normal;font-family:Menlo,'DejaVu Sans Mono',consolas,'Courier New',monospace\">Requirement already satisfied: six&gt;1.9 in /opt/anaconda3/envs/music/lib/python3.12/site-packages (from tensorboard) (1.17.0)\n",
       "</pre>\n"
      ],
      "text/plain": [
       "Requirement already satisfied: six>1.9 in /opt/anaconda3/envs/music/lib/python3.12/site-packages (from tensorboard) (1.17.0)\n"
      ]
     },
     "metadata": {},
     "output_type": "display_data"
    },
    {
     "data": {
      "text/html": [
       "<pre style=\"white-space:pre;overflow-x:auto;line-height:normal;font-family:Menlo,'DejaVu Sans Mono',consolas,'Courier New',monospace\">Requirement already satisfied: tensorboard-data-server&lt;0.8.0,&gt;=0.7.0 in /opt/anaconda3/envs/music/lib/python3.12/site-packages (from tensorboard) (0.7.2)\n",
       "</pre>\n"
      ],
      "text/plain": [
       "Requirement already satisfied: tensorboard-data-server<0.8.0,>=0.7.0 in /opt/anaconda3/envs/music/lib/python3.12/site-packages (from tensorboard) (0.7.2)\n"
      ]
     },
     "metadata": {},
     "output_type": "display_data"
    },
    {
     "data": {
      "text/html": [
       "<pre style=\"white-space:pre;overflow-x:auto;line-height:normal;font-family:Menlo,'DejaVu Sans Mono',consolas,'Courier New',monospace\">Requirement already satisfied: werkzeug&gt;=1.0.1 in /opt/anaconda3/envs/music/lib/python3.12/site-packages (from tensorboard) (3.1.3)\n",
       "</pre>\n"
      ],
      "text/plain": [
       "Requirement already satisfied: werkzeug>=1.0.1 in /opt/anaconda3/envs/music/lib/python3.12/site-packages (from tensorboard) (3.1.3)\n"
      ]
     },
     "metadata": {},
     "output_type": "display_data"
    },
    {
     "data": {
      "text/html": [
       "<pre style=\"white-space:pre;overflow-x:auto;line-height:normal;font-family:Menlo,'DejaVu Sans Mono',consolas,'Courier New',monospace\">Requirement already satisfied: scipy&gt;=1.6.0 in /opt/anaconda3/envs/music/lib/python3.12/site-packages (from scikit-learn) (1.15.2)\n",
       "</pre>\n"
      ],
      "text/plain": [
       "Requirement already satisfied: scipy>=1.6.0 in /opt/anaconda3/envs/music/lib/python3.12/site-packages (from scikit-learn) (1.15.2)\n"
      ]
     },
     "metadata": {},
     "output_type": "display_data"
    },
    {
     "data": {
      "text/html": [
       "<pre style=\"white-space:pre;overflow-x:auto;line-height:normal;font-family:Menlo,'DejaVu Sans Mono',consolas,'Courier New',monospace\">Requirement already satisfied: joblib&gt;=1.2.0 in /opt/anaconda3/envs/music/lib/python3.12/site-packages (from scikit-learn) (1.4.2)\n",
       "</pre>\n"
      ],
      "text/plain": [
       "Requirement already satisfied: joblib>=1.2.0 in /opt/anaconda3/envs/music/lib/python3.12/site-packages (from scikit-learn) (1.4.2)\n"
      ]
     },
     "metadata": {},
     "output_type": "display_data"
    },
    {
     "data": {
      "text/html": [
       "<pre style=\"white-space:pre;overflow-x:auto;line-height:normal;font-family:Menlo,'DejaVu Sans Mono',consolas,'Courier New',monospace\">Requirement already satisfied: threadpoolctl&gt;=3.1.0 in /opt/anaconda3/envs/music/lib/python3.12/site-packages (from scikit-learn) (3.5.0)\n",
       "</pre>\n"
      ],
      "text/plain": [
       "Requirement already satisfied: threadpoolctl>=3.1.0 in /opt/anaconda3/envs/music/lib/python3.12/site-packages (from scikit-learn) (3.5.0)\n"
      ]
     },
     "metadata": {},
     "output_type": "display_data"
    },
    {
     "data": {
      "text/html": [
       "<pre style=\"white-space:pre;overflow-x:auto;line-height:normal;font-family:Menlo,'DejaVu Sans Mono',consolas,'Courier New',monospace\">Requirement already satisfied: aiohappyeyeballs&gt;=2.3.0 in /opt/anaconda3/envs/music/lib/python3.12/site-packages (from aiohttp-&gt;datasets) (2.5.0)\n",
       "</pre>\n"
      ],
      "text/plain": [
       "Requirement already satisfied: aiohappyeyeballs>=2.3.0 in /opt/anaconda3/envs/music/lib/python3.12/site-packages (from aiohttp->datasets) (2.5.0)\n"
      ]
     },
     "metadata": {},
     "output_type": "display_data"
    },
    {
     "data": {
      "text/html": [
       "<pre style=\"white-space:pre;overflow-x:auto;line-height:normal;font-family:Menlo,'DejaVu Sans Mono',consolas,'Courier New',monospace\">Requirement already satisfied: aiosignal&gt;=1.1.2 in /opt/anaconda3/envs/music/lib/python3.12/site-packages (from aiohttp-&gt;datasets) (1.3.2)\n",
       "</pre>\n"
      ],
      "text/plain": [
       "Requirement already satisfied: aiosignal>=1.1.2 in /opt/anaconda3/envs/music/lib/python3.12/site-packages (from aiohttp->datasets) (1.3.2)\n"
      ]
     },
     "metadata": {},
     "output_type": "display_data"
    },
    {
     "data": {
      "text/html": [
       "<pre style=\"white-space:pre;overflow-x:auto;line-height:normal;font-family:Menlo,'DejaVu Sans Mono',consolas,'Courier New',monospace\">Requirement already satisfied: attrs&gt;=17.3.0 in /opt/anaconda3/envs/music/lib/python3.12/site-packages (from aiohttp-&gt;datasets) (25.1.0)\n",
       "</pre>\n"
      ],
      "text/plain": [
       "Requirement already satisfied: attrs>=17.3.0 in /opt/anaconda3/envs/music/lib/python3.12/site-packages (from aiohttp->datasets) (25.1.0)\n"
      ]
     },
     "metadata": {},
     "output_type": "display_data"
    },
    {
     "data": {
      "text/html": [
       "<pre style=\"white-space:pre;overflow-x:auto;line-height:normal;font-family:Menlo,'DejaVu Sans Mono',consolas,'Courier New',monospace\">Requirement already satisfied: frozenlist&gt;=1.1.1 in /opt/anaconda3/envs/music/lib/python3.12/site-packages (from aiohttp-&gt;datasets) (1.5.0)\n",
       "</pre>\n"
      ],
      "text/plain": [
       "Requirement already satisfied: frozenlist>=1.1.1 in /opt/anaconda3/envs/music/lib/python3.12/site-packages (from aiohttp->datasets) (1.5.0)\n"
      ]
     },
     "metadata": {},
     "output_type": "display_data"
    },
    {
     "data": {
      "text/html": [
       "<pre style=\"white-space:pre;overflow-x:auto;line-height:normal;font-family:Menlo,'DejaVu Sans Mono',consolas,'Courier New',monospace\">Requirement already satisfied: multidict&lt;7.0,&gt;=4.5 in /opt/anaconda3/envs/music/lib/python3.12/site-packages (from aiohttp-&gt;datasets) (6.1.0)\n",
       "</pre>\n"
      ],
      "text/plain": [
       "Requirement already satisfied: multidict<7.0,>=4.5 in /opt/anaconda3/envs/music/lib/python3.12/site-packages (from aiohttp->datasets) (6.1.0)\n"
      ]
     },
     "metadata": {},
     "output_type": "display_data"
    },
    {
     "data": {
      "text/html": [
       "<pre style=\"white-space:pre;overflow-x:auto;line-height:normal;font-family:Menlo,'DejaVu Sans Mono',consolas,'Courier New',monospace\">Requirement already satisfied: propcache&gt;=0.2.0 in /opt/anaconda3/envs/music/lib/python3.12/site-packages (from aiohttp-&gt;datasets) (0.3.0)\n",
       "</pre>\n"
      ],
      "text/plain": [
       "Requirement already satisfied: propcache>=0.2.0 in /opt/anaconda3/envs/music/lib/python3.12/site-packages (from aiohttp->datasets) (0.3.0)\n"
      ]
     },
     "metadata": {},
     "output_type": "display_data"
    },
    {
     "data": {
      "text/html": [
       "<pre style=\"white-space:pre;overflow-x:auto;line-height:normal;font-family:Menlo,'DejaVu Sans Mono',consolas,'Courier New',monospace\">Requirement already satisfied: yarl&lt;2.0,&gt;=1.17.0 in /opt/anaconda3/envs/music/lib/python3.12/site-packages (from aiohttp-&gt;datasets) (1.18.3)\n",
       "</pre>\n"
      ],
      "text/plain": [
       "Requirement already satisfied: yarl<2.0,>=1.17.0 in /opt/anaconda3/envs/music/lib/python3.12/site-packages (from aiohttp->datasets) (1.18.3)\n"
      ]
     },
     "metadata": {},
     "output_type": "display_data"
    },
    {
     "data": {
      "text/html": [
       "<pre style=\"white-space:pre;overflow-x:auto;line-height:normal;font-family:Menlo,'DejaVu Sans Mono',consolas,'Courier New',monospace\">Requirement already satisfied: typing-extensions&gt;=3.7.4.3 in /opt/anaconda3/envs/music/lib/python3.12/site-packages (from huggingface-hub&lt;1.0,&gt;=0.26.0-&gt;transformers) (4.12.2)\n",
       "</pre>\n"
      ],
      "text/plain": [
       "Requirement already satisfied: typing-extensions>=3.7.4.3 in /opt/anaconda3/envs/music/lib/python3.12/site-packages (from huggingface-hub<1.0,>=0.26.0->transformers) (4.12.2)\n"
      ]
     },
     "metadata": {},
     "output_type": "display_data"
    },
    {
     "data": {
      "text/html": [
       "<pre style=\"white-space:pre;overflow-x:auto;line-height:normal;font-family:Menlo,'DejaVu Sans Mono',consolas,'Courier New',monospace\">Requirement already satisfied: charset-normalizer&lt;4,&gt;=2 in /opt/anaconda3/envs/music/lib/python3.12/site-packages (from requests-&gt;transformers) (3.4.1)\n",
       "</pre>\n"
      ],
      "text/plain": [
       "Requirement already satisfied: charset-normalizer<4,>=2 in /opt/anaconda3/envs/music/lib/python3.12/site-packages (from requests->transformers) (3.4.1)\n"
      ]
     },
     "metadata": {},
     "output_type": "display_data"
    },
    {
     "data": {
      "text/html": [
       "<pre style=\"white-space:pre;overflow-x:auto;line-height:normal;font-family:Menlo,'DejaVu Sans Mono',consolas,'Courier New',monospace\">Requirement already satisfied: idna&lt;4,&gt;=2.5 in /opt/anaconda3/envs/music/lib/python3.12/site-packages (from requests-&gt;transformers) (3.10)\n",
       "</pre>\n"
      ],
      "text/plain": [
       "Requirement already satisfied: idna<4,>=2.5 in /opt/anaconda3/envs/music/lib/python3.12/site-packages (from requests->transformers) (3.10)\n"
      ]
     },
     "metadata": {},
     "output_type": "display_data"
    },
    {
     "data": {
      "text/html": [
       "<pre style=\"white-space:pre;overflow-x:auto;line-height:normal;font-family:Menlo,'DejaVu Sans Mono',consolas,'Courier New',monospace\">Requirement already satisfied: urllib3&lt;3,&gt;=1.21.1 in /opt/anaconda3/envs/music/lib/python3.12/site-packages (from requests-&gt;transformers) (2.3.0)\n",
       "</pre>\n"
      ],
      "text/plain": [
       "Requirement already satisfied: urllib3<3,>=1.21.1 in /opt/anaconda3/envs/music/lib/python3.12/site-packages (from requests->transformers) (2.3.0)\n"
      ]
     },
     "metadata": {},
     "output_type": "display_data"
    },
    {
     "data": {
      "text/html": [
       "<pre style=\"white-space:pre;overflow-x:auto;line-height:normal;font-family:Menlo,'DejaVu Sans Mono',consolas,'Courier New',monospace\">Requirement already satisfied: certifi&gt;=2017.4.17 in /opt/anaconda3/envs/music/lib/python3.12/site-packages (from requests-&gt;transformers) (2025.1.31)\n",
       "</pre>\n"
      ],
      "text/plain": [
       "Requirement already satisfied: certifi>=2017.4.17 in /opt/anaconda3/envs/music/lib/python3.12/site-packages (from requests->transformers) (2025.1.31)\n"
      ]
     },
     "metadata": {},
     "output_type": "display_data"
    },
    {
     "data": {
      "text/html": [
       "<pre style=\"white-space:pre;overflow-x:auto;line-height:normal;font-family:Menlo,'DejaVu Sans Mono',consolas,'Courier New',monospace\">Requirement already satisfied: sympy&gt;=1.13.3 in /opt/anaconda3/envs/music/lib/python3.12/site-packages (from torch&gt;=1.13.0-&gt;peft) (1.14.0rc1)\n",
       "</pre>\n"
      ],
      "text/plain": [
       "Requirement already satisfied: sympy>=1.13.3 in /opt/anaconda3/envs/music/lib/python3.12/site-packages (from torch>=1.13.0->peft) (1.14.0rc1)\n"
      ]
     },
     "metadata": {},
     "output_type": "display_data"
    },
    {
     "data": {
      "text/html": [
       "<pre style=\"white-space:pre;overflow-x:auto;line-height:normal;font-family:Menlo,'DejaVu Sans Mono',consolas,'Courier New',monospace\">Requirement already satisfied: networkx in /opt/anaconda3/envs/music/lib/python3.12/site-packages (from torch&gt;=1.13.0-&gt;peft) (3.4.2)\n",
       "</pre>\n"
      ],
      "text/plain": [
       "Requirement already satisfied: networkx in /opt/anaconda3/envs/music/lib/python3.12/site-packages (from torch>=1.13.0->peft) (3.4.2)\n"
      ]
     },
     "metadata": {},
     "output_type": "display_data"
    },
    {
     "data": {
      "text/html": [
       "<pre style=\"white-space:pre;overflow-x:auto;line-height:normal;font-family:Menlo,'DejaVu Sans Mono',consolas,'Courier New',monospace\">Requirement already satisfied: jinja2 in /opt/anaconda3/envs/music/lib/python3.12/site-packages (from torch&gt;=1.13.0-&gt;peft) (3.1.6)\n",
       "</pre>\n"
      ],
      "text/plain": [
       "Requirement already satisfied: jinja2 in /opt/anaconda3/envs/music/lib/python3.12/site-packages (from torch>=1.13.0->peft) (3.1.6)\n"
      ]
     },
     "metadata": {},
     "output_type": "display_data"
    },
    {
     "data": {
      "text/html": [
       "<pre style=\"white-space:pre;overflow-x:auto;line-height:normal;font-family:Menlo,'DejaVu Sans Mono',consolas,'Courier New',monospace\">Requirement already satisfied: MarkupSafe&gt;=2.1.1 in /opt/anaconda3/envs/music/lib/python3.12/site-packages (from werkzeug&gt;=1.0.1-&gt;tensorboard) (3.0.2)\n",
       "</pre>\n"
      ],
      "text/plain": [
       "Requirement already satisfied: MarkupSafe>=2.1.1 in /opt/anaconda3/envs/music/lib/python3.12/site-packages (from werkzeug>=1.0.1->tensorboard) (3.0.2)\n"
      ]
     },
     "metadata": {},
     "output_type": "display_data"
    },
    {
     "data": {
      "text/html": [
       "<pre style=\"white-space:pre;overflow-x:auto;line-height:normal;font-family:Menlo,'DejaVu Sans Mono',consolas,'Courier New',monospace\">Requirement already satisfied: python-dateutil&gt;=2.8.2 in /opt/anaconda3/envs/music/lib/python3.12/site-packages (from pandas-&gt;datasets) (2.9.0.post0)\n",
       "</pre>\n"
      ],
      "text/plain": [
       "Requirement already satisfied: python-dateutil>=2.8.2 in /opt/anaconda3/envs/music/lib/python3.12/site-packages (from pandas->datasets) (2.9.0.post0)\n"
      ]
     },
     "metadata": {},
     "output_type": "display_data"
    },
    {
     "data": {
      "text/html": [
       "<pre style=\"white-space:pre;overflow-x:auto;line-height:normal;font-family:Menlo,'DejaVu Sans Mono',consolas,'Courier New',monospace\">Requirement already satisfied: pytz&gt;=2020.1 in /opt/anaconda3/envs/music/lib/python3.12/site-packages (from pandas-&gt;datasets) (2025.1)\n",
       "</pre>\n"
      ],
      "text/plain": [
       "Requirement already satisfied: pytz>=2020.1 in /opt/anaconda3/envs/music/lib/python3.12/site-packages (from pandas->datasets) (2025.1)\n"
      ]
     },
     "metadata": {},
     "output_type": "display_data"
    },
    {
     "data": {
      "text/html": [
       "<pre style=\"white-space:pre;overflow-x:auto;line-height:normal;font-family:Menlo,'DejaVu Sans Mono',consolas,'Courier New',monospace\">Requirement already satisfied: tzdata&gt;=2022.7 in /opt/anaconda3/envs/music/lib/python3.12/site-packages (from pandas-&gt;datasets) (2025.1)\n",
       "</pre>\n"
      ],
      "text/plain": [
       "Requirement already satisfied: tzdata>=2022.7 in /opt/anaconda3/envs/music/lib/python3.12/site-packages (from pandas->datasets) (2025.1)\n"
      ]
     },
     "metadata": {},
     "output_type": "display_data"
    },
    {
     "data": {
      "text/html": [
       "<pre style=\"white-space:pre;overflow-x:auto;line-height:normal;font-family:Menlo,'DejaVu Sans Mono',consolas,'Courier New',monospace\">Requirement already satisfied: mpmath&gt;=1.1.0 in /opt/anaconda3/envs/music/lib/python3.12/site-packages (from sympy&gt;=1.13.3-&gt;torch&gt;=1.13.0-&gt;peft) (1.3.0)\n",
       "</pre>\n"
      ],
      "text/plain": [
       "Requirement already satisfied: mpmath>=1.1.0 in /opt/anaconda3/envs/music/lib/python3.12/site-packages (from sympy>=1.13.3->torch>=1.13.0->peft) (1.3.0)\n"
      ]
     },
     "metadata": {},
     "output_type": "display_data"
    },
    {
     "name": "stdout",
     "output_type": "stream",
     "text": [
      "Loading model with MPS acceleration...\n",
      "LoRA applied successfully\n",
      "trainable params: 3,244,032 || all params: 226,126,080 || trainable%: 1.4346\n"
     ]
    },
    {
     "data": {
      "application/vnd.jupyter.widget-view+json": {
       "model_id": "258b9077f03b4c7c9d152f4a94fc6365",
       "version_major": 2,
       "version_minor": 0
      },
      "text/plain": [
       "Map:   0%|          | 0/2300 [00:00<?, ? examples/s]"
      ]
     },
     "metadata": {},
     "output_type": "display_data"
    },
    {
     "data": {
      "application/vnd.jupyter.widget-view+json": {
       "model_id": "7015e69383ab4cf98fd0c52a17bd7683",
       "version_major": 2,
       "version_minor": 0
      },
      "text/plain": [
       "Map:   0%|          | 0/2300 [00:00<?, ? examples/s]"
      ]
     },
     "metadata": {},
     "output_type": "display_data"
    },
    {
     "name": "stderr",
     "output_type": "stream",
     "text": [
      "/opt/anaconda3/envs/music/lib/python3.12/site-packages/transformers/training_args.py:1594: FutureWarning: `evaluation_strategy` is deprecated and will be removed in version 4.46 of 🤗 Transformers. Use `eval_strategy` instead\n",
      "  warnings.warn(\n",
      "/var/folders/bm/q0yfv9ks3z142swybklvy6p40000gn/T/ipykernel_98423/4045385483.py:137: FutureWarning: `tokenizer` is deprecated and will be removed in version 5.0.0 for `Seq2SeqTrainer.__init__`. Use `processing_class` instead.\n",
      "  trainer = Seq2SeqTrainer(\n"
     ]
    },
    {
     "ename": "ValueError",
     "evalue": "fp16 mixed precision requires a GPU (not 'mps').",
     "output_type": "error",
     "traceback": [
      "\u001b[31m---------------------------------------------------------------------------\u001b[39m",
      "\u001b[31mValueError\u001b[39m                                Traceback (most recent call last)",
      "\u001b[36mCell\u001b[39m\u001b[36m \u001b[39m\u001b[32mIn[4]\u001b[39m\u001b[32m, line 252\u001b[39m\n\u001b[32m    249\u001b[39m dataset_path = \u001b[33m\"\u001b[39m\u001b[33mpath/to/your/code_comment_dataset.csv\u001b[39m\u001b[33m\"\u001b[39m\n\u001b[32m    251\u001b[39m \u001b[38;5;66;03m# For Apple Silicon M1/M2/M3, use a smaller model for better performance\u001b[39;00m\n\u001b[32m--> \u001b[39m\u001b[32m252\u001b[39m model, tokenizer = \u001b[43mfinetune_code_comment_model\u001b[49m\u001b[43m(\u001b[49m\n\u001b[32m    253\u001b[39m \u001b[43m    \u001b[49m\u001b[43mdataset_path\u001b[49m\u001b[43m=\u001b[49m\u001b[43mdataset_path\u001b[49m\u001b[43m,\u001b[49m\n\u001b[32m    254\u001b[39m \u001b[43m    \u001b[49m\u001b[43mmodel_name\u001b[49m\u001b[43m=\u001b[49m\u001b[33;43m\"\u001b[39;49m\u001b[33;43mSalesforce/codet5p-220m\u001b[39;49m\u001b[33;43m\"\u001b[39;49m\u001b[43m,\u001b[49m\u001b[43m  \u001b[49m\u001b[38;5;66;43;03m# Use smaller model for better Mac performance\u001b[39;49;00m\n\u001b[32m    255\u001b[39m \u001b[43m    \u001b[49m\u001b[43moutput_dir\u001b[49m\u001b[43m=\u001b[49m\u001b[33;43m\"\u001b[39;49m\u001b[33;43m./code-comment-mac-model\u001b[39;49m\u001b[33;43m\"\u001b[39;49m\n\u001b[32m    256\u001b[39m \u001b[43m\u001b[49m\u001b[43m)\u001b[49m\n\u001b[32m    258\u001b[39m \u001b[38;5;66;03m# Load and use the model for inference\u001b[39;00m\n\u001b[32m    259\u001b[39m load_and_use_model(\u001b[33m\"\u001b[39m\u001b[33m./code-comment-mac-model\u001b[39m\u001b[33m\"\u001b[39m)\n",
      "\u001b[36mCell\u001b[39m\u001b[36m \u001b[39m\u001b[32mIn[4]\u001b[39m\u001b[32m, line 137\u001b[39m, in \u001b[36mfinetune_code_comment_model\u001b[39m\u001b[34m(dataset_path, model_name, output_dir)\u001b[39m\n\u001b[32m    114\u001b[39m training_args = Seq2SeqTrainingArguments(\n\u001b[32m    115\u001b[39m     output_dir=output_dir,\n\u001b[32m    116\u001b[39m     evaluation_strategy=\u001b[33m\"\u001b[39m\u001b[33mepoch\u001b[39m\u001b[33m\"\u001b[39m,\n\u001b[32m   (...)\u001b[39m\u001b[32m    133\u001b[39m     dataloader_pin_memory=\u001b[38;5;28;01mFalse\u001b[39;00m,  \u001b[38;5;66;03m# Disable for MPS\u001b[39;00m\n\u001b[32m    134\u001b[39m )\n\u001b[32m    136\u001b[39m \u001b[38;5;66;03m# Initialize trainer\u001b[39;00m\n\u001b[32m--> \u001b[39m\u001b[32m137\u001b[39m trainer = \u001b[43mSeq2SeqTrainer\u001b[49m\u001b[43m(\u001b[49m\n\u001b[32m    138\u001b[39m \u001b[43m    \u001b[49m\u001b[43mmodel\u001b[49m\u001b[43m=\u001b[49m\u001b[43mmodel\u001b[49m\u001b[43m,\u001b[49m\n\u001b[32m    139\u001b[39m \u001b[43m    \u001b[49m\u001b[43margs\u001b[49m\u001b[43m=\u001b[49m\u001b[43mtraining_args\u001b[49m\u001b[43m,\u001b[49m\n\u001b[32m    140\u001b[39m \u001b[43m    \u001b[49m\u001b[43mtrain_dataset\u001b[49m\u001b[43m=\u001b[49m\u001b[43mtokenized_train\u001b[49m\u001b[43m,\u001b[49m\n\u001b[32m    141\u001b[39m \u001b[43m    \u001b[49m\u001b[43meval_dataset\u001b[49m\u001b[43m=\u001b[49m\u001b[43mtokenized_val\u001b[49m\u001b[43m,\u001b[49m\n\u001b[32m    142\u001b[39m \u001b[43m    \u001b[49m\u001b[43mtokenizer\u001b[49m\u001b[43m=\u001b[49m\u001b[43mtokenizer\u001b[49m\u001b[43m,\u001b[49m\n\u001b[32m    143\u001b[39m \u001b[43m    \u001b[49m\u001b[43mdata_collator\u001b[49m\u001b[43m=\u001b[49m\u001b[43mdata_collator\u001b[49m\u001b[43m,\u001b[49m\n\u001b[32m    144\u001b[39m \u001b[43m\u001b[49m\u001b[43m)\u001b[49m\n\u001b[32m    146\u001b[39m \u001b[38;5;66;03m# Fine-tune the model\u001b[39;00m\n\u001b[32m    147\u001b[39m trainer.train()\n",
      "\u001b[36mFile \u001b[39m\u001b[32m/opt/anaconda3/envs/music/lib/python3.12/site-packages/transformers/utils/deprecation.py:172\u001b[39m, in \u001b[36mdeprecate_kwarg.<locals>.wrapper.<locals>.wrapped_func\u001b[39m\u001b[34m(*args, **kwargs)\u001b[39m\n\u001b[32m    168\u001b[39m \u001b[38;5;28;01melif\u001b[39;00m minimum_action \u001b[38;5;129;01min\u001b[39;00m (Action.NOTIFY, Action.NOTIFY_ALWAYS) \u001b[38;5;129;01mand\u001b[39;00m \u001b[38;5;129;01mnot\u001b[39;00m is_torchdynamo_compiling():\n\u001b[32m    169\u001b[39m     \u001b[38;5;66;03m# DeprecationWarning is ignored by default, so we use FutureWarning instead\u001b[39;00m\n\u001b[32m    170\u001b[39m     warnings.warn(message, \u001b[38;5;167;01mFutureWarning\u001b[39;00m, stacklevel=\u001b[32m2\u001b[39m)\n\u001b[32m--> \u001b[39m\u001b[32m172\u001b[39m \u001b[38;5;28;01mreturn\u001b[39;00m \u001b[43mfunc\u001b[49m\u001b[43m(\u001b[49m\u001b[43m*\u001b[49m\u001b[43margs\u001b[49m\u001b[43m,\u001b[49m\u001b[43m \u001b[49m\u001b[43m*\u001b[49m\u001b[43m*\u001b[49m\u001b[43mkwargs\u001b[49m\u001b[43m)\u001b[49m\n",
      "\u001b[36mFile \u001b[39m\u001b[32m/opt/anaconda3/envs/music/lib/python3.12/site-packages/transformers/trainer_seq2seq.py:73\u001b[39m, in \u001b[36mSeq2SeqTrainer.__init__\u001b[39m\u001b[34m(self, model, args, data_collator, train_dataset, eval_dataset, processing_class, model_init, compute_loss_func, compute_metrics, callbacks, optimizers, preprocess_logits_for_metrics)\u001b[39m\n\u001b[32m     55\u001b[39m \u001b[38;5;129m@deprecate_kwarg\u001b[39m(\u001b[33m\"\u001b[39m\u001b[33mtokenizer\u001b[39m\u001b[33m\"\u001b[39m, new_name=\u001b[33m\"\u001b[39m\u001b[33mprocessing_class\u001b[39m\u001b[33m\"\u001b[39m, version=\u001b[33m\"\u001b[39m\u001b[33m5.0.0\u001b[39m\u001b[33m\"\u001b[39m, raise_if_both_names=\u001b[38;5;28;01mTrue\u001b[39;00m)\n\u001b[32m     56\u001b[39m \u001b[38;5;28;01mdef\u001b[39;00m\u001b[38;5;250m \u001b[39m\u001b[34m__init__\u001b[39m(\n\u001b[32m     57\u001b[39m     \u001b[38;5;28mself\u001b[39m,\n\u001b[32m   (...)\u001b[39m\u001b[32m     71\u001b[39m     preprocess_logits_for_metrics: Optional[Callable[[torch.Tensor, torch.Tensor], torch.Tensor]] = \u001b[38;5;28;01mNone\u001b[39;00m,\n\u001b[32m     72\u001b[39m ):\n\u001b[32m---> \u001b[39m\u001b[32m73\u001b[39m     \u001b[38;5;28;43msuper\u001b[39;49m\u001b[43m(\u001b[49m\u001b[43m)\u001b[49m\u001b[43m.\u001b[49m\u001b[34;43m__init__\u001b[39;49m\u001b[43m(\u001b[49m\n\u001b[32m     74\u001b[39m \u001b[43m        \u001b[49m\u001b[43mmodel\u001b[49m\u001b[43m=\u001b[49m\u001b[43mmodel\u001b[49m\u001b[43m,\u001b[49m\n\u001b[32m     75\u001b[39m \u001b[43m        \u001b[49m\u001b[43margs\u001b[49m\u001b[43m=\u001b[49m\u001b[43margs\u001b[49m\u001b[43m,\u001b[49m\n\u001b[32m     76\u001b[39m \u001b[43m        \u001b[49m\u001b[43mdata_collator\u001b[49m\u001b[43m=\u001b[49m\u001b[43mdata_collator\u001b[49m\u001b[43m,\u001b[49m\n\u001b[32m     77\u001b[39m \u001b[43m        \u001b[49m\u001b[43mtrain_dataset\u001b[49m\u001b[43m=\u001b[49m\u001b[43mtrain_dataset\u001b[49m\u001b[43m,\u001b[49m\n\u001b[32m     78\u001b[39m \u001b[43m        \u001b[49m\u001b[43meval_dataset\u001b[49m\u001b[43m=\u001b[49m\u001b[43meval_dataset\u001b[49m\u001b[43m,\u001b[49m\n\u001b[32m     79\u001b[39m \u001b[43m        \u001b[49m\u001b[43mprocessing_class\u001b[49m\u001b[43m=\u001b[49m\u001b[43mprocessing_class\u001b[49m\u001b[43m,\u001b[49m\n\u001b[32m     80\u001b[39m \u001b[43m        \u001b[49m\u001b[43mmodel_init\u001b[49m\u001b[43m=\u001b[49m\u001b[43mmodel_init\u001b[49m\u001b[43m,\u001b[49m\n\u001b[32m     81\u001b[39m \u001b[43m        \u001b[49m\u001b[43mcompute_loss_func\u001b[49m\u001b[43m=\u001b[49m\u001b[43mcompute_loss_func\u001b[49m\u001b[43m,\u001b[49m\n\u001b[32m     82\u001b[39m \u001b[43m        \u001b[49m\u001b[43mcompute_metrics\u001b[49m\u001b[43m=\u001b[49m\u001b[43mcompute_metrics\u001b[49m\u001b[43m,\u001b[49m\n\u001b[32m     83\u001b[39m \u001b[43m        \u001b[49m\u001b[43mcallbacks\u001b[49m\u001b[43m=\u001b[49m\u001b[43mcallbacks\u001b[49m\u001b[43m,\u001b[49m\n\u001b[32m     84\u001b[39m \u001b[43m        \u001b[49m\u001b[43moptimizers\u001b[49m\u001b[43m=\u001b[49m\u001b[43moptimizers\u001b[49m\u001b[43m,\u001b[49m\n\u001b[32m     85\u001b[39m \u001b[43m        \u001b[49m\u001b[43mpreprocess_logits_for_metrics\u001b[49m\u001b[43m=\u001b[49m\u001b[43mpreprocess_logits_for_metrics\u001b[49m\u001b[43m,\u001b[49m\n\u001b[32m     86\u001b[39m \u001b[43m    \u001b[49m\u001b[43m)\u001b[49m\n\u001b[32m     88\u001b[39m     \u001b[38;5;66;03m# Override self.model.generation_config if a GenerationConfig is specified in args.\u001b[39;00m\n\u001b[32m     89\u001b[39m     \u001b[38;5;66;03m# Priority: args.generation_config > model.generation_config > default GenerationConfig.\u001b[39;00m\n\u001b[32m     90\u001b[39m     \u001b[38;5;28;01mif\u001b[39;00m \u001b[38;5;28mself\u001b[39m.args.generation_config \u001b[38;5;129;01mis\u001b[39;00m \u001b[38;5;129;01mnot\u001b[39;00m \u001b[38;5;28;01mNone\u001b[39;00m:\n",
      "\u001b[36mFile \u001b[39m\u001b[32m/opt/anaconda3/envs/music/lib/python3.12/site-packages/transformers/utils/deprecation.py:172\u001b[39m, in \u001b[36mdeprecate_kwarg.<locals>.wrapper.<locals>.wrapped_func\u001b[39m\u001b[34m(*args, **kwargs)\u001b[39m\n\u001b[32m    168\u001b[39m \u001b[38;5;28;01melif\u001b[39;00m minimum_action \u001b[38;5;129;01min\u001b[39;00m (Action.NOTIFY, Action.NOTIFY_ALWAYS) \u001b[38;5;129;01mand\u001b[39;00m \u001b[38;5;129;01mnot\u001b[39;00m is_torchdynamo_compiling():\n\u001b[32m    169\u001b[39m     \u001b[38;5;66;03m# DeprecationWarning is ignored by default, so we use FutureWarning instead\u001b[39;00m\n\u001b[32m    170\u001b[39m     warnings.warn(message, \u001b[38;5;167;01mFutureWarning\u001b[39;00m, stacklevel=\u001b[32m2\u001b[39m)\n\u001b[32m--> \u001b[39m\u001b[32m172\u001b[39m \u001b[38;5;28;01mreturn\u001b[39;00m \u001b[43mfunc\u001b[49m\u001b[43m(\u001b[49m\u001b[43m*\u001b[49m\u001b[43margs\u001b[49m\u001b[43m,\u001b[49m\u001b[43m \u001b[49m\u001b[43m*\u001b[49m\u001b[43m*\u001b[49m\u001b[43mkwargs\u001b[49m\u001b[43m)\u001b[49m\n",
      "\u001b[36mFile \u001b[39m\u001b[32m/opt/anaconda3/envs/music/lib/python3.12/site-packages/transformers/trainer.py:461\u001b[39m, in \u001b[36mTrainer.__init__\u001b[39m\u001b[34m(self, model, args, data_collator, train_dataset, eval_dataset, processing_class, model_init, compute_loss_func, compute_metrics, callbacks, optimizers, optimizer_cls_and_kwargs, preprocess_logits_for_metrics)\u001b[39m\n\u001b[32m    458\u001b[39m \u001b[38;5;28mself\u001b[39m.deepspeed = \u001b[38;5;28;01mNone\u001b[39;00m\n\u001b[32m    459\u001b[39m \u001b[38;5;28mself\u001b[39m.is_in_train = \u001b[38;5;28;01mFalse\u001b[39;00m\n\u001b[32m--> \u001b[39m\u001b[32m461\u001b[39m \u001b[38;5;28;43mself\u001b[39;49m\u001b[43m.\u001b[49m\u001b[43mcreate_accelerator_and_postprocess\u001b[49m\u001b[43m(\u001b[49m\u001b[43m)\u001b[49m\n\u001b[32m    463\u001b[39m \u001b[38;5;66;03m# memory metrics - must set up as early as possible\u001b[39;00m\n\u001b[32m    464\u001b[39m \u001b[38;5;28mself\u001b[39m._memory_tracker = TrainerMemoryTracker(\u001b[38;5;28mself\u001b[39m.args.skip_memory_metrics)\n",
      "\u001b[36mFile \u001b[39m\u001b[32m/opt/anaconda3/envs/music/lib/python3.12/site-packages/transformers/trainer.py:5099\u001b[39m, in \u001b[36mTrainer.create_accelerator_and_postprocess\u001b[39m\u001b[34m(self)\u001b[39m\n\u001b[32m   5096\u001b[39m     args.update(accelerator_config)\n\u001b[32m   5098\u001b[39m \u001b[38;5;66;03m# create accelerator object\u001b[39;00m\n\u001b[32m-> \u001b[39m\u001b[32m5099\u001b[39m \u001b[38;5;28mself\u001b[39m.accelerator = \u001b[43mAccelerator\u001b[49m\u001b[43m(\u001b[49m\u001b[43m*\u001b[49m\u001b[43m*\u001b[49m\u001b[43margs\u001b[49m\u001b[43m)\u001b[49m\n\u001b[32m   5100\u001b[39m \u001b[38;5;66;03m# some Trainer classes need to use `gather` instead of `gather_for_metrics`, thus we store a flag\u001b[39;00m\n\u001b[32m   5101\u001b[39m \u001b[38;5;28mself\u001b[39m.gather_function = \u001b[38;5;28mself\u001b[39m.accelerator.gather_for_metrics\n",
      "\u001b[36mFile \u001b[39m\u001b[32m/opt/anaconda3/envs/music/lib/python3.12/site-packages/accelerate/accelerator.py:555\u001b[39m, in \u001b[36mAccelerator.__init__\u001b[39m\u001b[34m(self, device_placement, split_batches, mixed_precision, gradient_accumulation_steps, cpu, dataloader_config, deepspeed_plugin, fsdp_plugin, torch_tp_plugin, megatron_lm_plugin, rng_types, log_with, project_dir, project_config, gradient_accumulation_plugin, step_scheduler_with_optimizer, kwargs_handlers, dynamo_backend, dynamo_plugin, deepspeed_plugins)\u001b[39m\n\u001b[32m    544\u001b[39m \u001b[38;5;28mself\u001b[39m.native_amp = \u001b[38;5;28;01mTrue\u001b[39;00m\n\u001b[32m    545\u001b[39m \u001b[38;5;28;01mif\u001b[39;00m \u001b[38;5;28mself\u001b[39m.device.type \u001b[38;5;129;01mnot\u001b[39;00m \u001b[38;5;129;01min\u001b[39;00m (\n\u001b[32m    546\u001b[39m     \u001b[33m\"\u001b[39m\u001b[33mxpu\u001b[39m\u001b[33m\"\u001b[39m,\n\u001b[32m    547\u001b[39m     \u001b[33m\"\u001b[39m\u001b[33mcuda\u001b[39m\u001b[33m\"\u001b[39m,\n\u001b[32m   (...)\u001b[39m\u001b[32m    553\u001b[39m     \u001b[33m\"\u001b[39m\u001b[33msdaa\u001b[39m\u001b[33m\"\u001b[39m,\n\u001b[32m    554\u001b[39m ) \u001b[38;5;129;01mor\u001b[39;00m is_torch_xla_available(check_is_tpu=\u001b[38;5;28;01mTrue\u001b[39;00m):\n\u001b[32m--> \u001b[39m\u001b[32m555\u001b[39m     \u001b[38;5;28;01mraise\u001b[39;00m \u001b[38;5;167;01mValueError\u001b[39;00m(\u001b[33mf\u001b[39m\u001b[33m\"\u001b[39m\u001b[33mfp16 mixed precision requires a GPU (not \u001b[39m\u001b[38;5;132;01m{\u001b[39;00m\u001b[38;5;28mself\u001b[39m.device.type\u001b[38;5;132;01m!r}\u001b[39;00m\u001b[33m).\u001b[39m\u001b[33m\"\u001b[39m)\n\u001b[32m    556\u001b[39m kwargs = \u001b[38;5;28mself\u001b[39m.scaler_handler.to_kwargs() \u001b[38;5;28;01mif\u001b[39;00m \u001b[38;5;28mself\u001b[39m.scaler_handler \u001b[38;5;129;01mis\u001b[39;00m \u001b[38;5;129;01mnot\u001b[39;00m \u001b[38;5;28;01mNone\u001b[39;00m \u001b[38;5;28;01melse\u001b[39;00m {}\n\u001b[32m    558\u001b[39m \u001b[38;5;66;03m# FSDP2 doesn't use ShardedGradScaler, don't want to modify `get_grad_scaler`, rather create a simple utility\u001b[39;00m\n",
      "\u001b[31mValueError\u001b[39m: fp16 mixed precision requires a GPU (not 'mps')."
     ]
    }
   ],
   "source": [
    "# Check if running on Apple Silicon\n",
    "is_apple_silicon = platform.processor() == 'arm' or \"Apple\" in platform.processor()\n",
    "print(f\"Running on Apple Silicon: {is_apple_silicon}\")\n",
    "\n",
    "# Check if MPS is available\n",
    "mps_available = hasattr(torch.backends, \"mps\") and torch.backends.mps.is_available()\n",
    "device = torch.device(\"mps\" if mps_available else \"cpu\")\n",
    "print(f\"Using device: {device}\")\n",
    "\n",
    "# 1. Load and prepare your dataset\n",
    "def load_dataset(file_path):\n",
    "    test_file = '../data/raw/test.jsonl'\n",
    "    train_file = '../data/raw/train.jsonl'\n",
    "\n",
    "    test_df = pd.read_json(test_file, lines=True)\n",
    "    train_df = pd.read_json(train_file, lines=True)    \n",
    "\n",
    "    # # Split into train/validation/test\n",
    "    # train_df, test_df = train_test_split(df, test_size=0.2, random_state=42)\n",
    "    # train_df, val_df = train_test_split(train_df, test_size=0.1, random_state=42)\n",
    "    \n",
    "    # Convert to Hugging Face datasets\n",
    "    # train_dataset = Dataset.from_pandas(train_df)\n",
    "    # val_dataset = Dataset.from_pandas(val_df)\n",
    "    # test_dataset = Dataset.from_pandas(test_df)\n",
    "    train_dataset = Dataset.from_pandas(train_df)\n",
    "    val_dataset = Dataset.from_pandas(train_df)\n",
    "    test_dataset = Dataset.from_pandas(test_df)\n",
    "    \n",
    "    return train_dataset, val_dataset, test_dataset\n",
    "\n",
    "# 2. Tokenization functions\n",
    "def preprocess_function(examples, tokenizer, max_input_length=512, max_target_length=128):\n",
    "    inputs = examples['diff_code']\n",
    "    targets = examples['diff_docstring']\n",
    "    \n",
    "    # Add a prefix to help the model understand the task\n",
    "    model_inputs = tokenizer(\n",
    "        [\"Generate a comment for this code: \" + code for code in inputs],\n",
    "        max_length=max_input_length,\n",
    "        truncation=True,\n",
    "        padding=\"max_length\",\n",
    "    )\n",
    "    \n",
    "    # Tokenize targets\n",
    "    labels = tokenizer(\n",
    "        targets, \n",
    "        max_length=max_target_length, \n",
    "        truncation=True,\n",
    "        padding=\"max_length\"\n",
    "    )\n",
    "    \n",
    "    model_inputs[\"labels\"] = labels[\"input_ids\"]\n",
    "    return model_inputs\n",
    "\n",
    "# 3. Main fine-tuning function using standard MPS for Apple Silicon\n",
    "def finetune_code_comment_model(dataset_path, model_name=\"Salesforce/codet5p-220m\", output_dir=\"./code-comment-model\"):\n",
    "    # Load datasets\n",
    "    train_dataset, val_dataset, test_dataset = load_dataset(dataset_path)\n",
    "    \n",
    "    # Load tokenizer\n",
    "    tokenizer = AutoTokenizer.from_pretrained(model_name)\n",
    "    \n",
    "    # Load model with appropriate settings for Apple Silicon\n",
    "    if mps_available:\n",
    "        print(\"Loading model with MPS acceleration...\")\n",
    "        # Load model and convert to half precision for better performance on MPS\n",
    "        model = AutoModelForSeq2SeqLM.from_pretrained(model_name)\n",
    "        model = model.half().to(device)  # Half precision (fp16) for better MPS performance\n",
    "    else:\n",
    "        print(\"Loading standard model...\")\n",
    "        # model = AutoModelForSeq2SeqLM.from_pretrained(model_name).to(device)\n",
    "        model = AutoModelForSeq2SeqLM.from_pretrained(model_name)\n",
    "        model = model.half().to(device)\n",
    "    \n",
    "    # Define LoRA configuration\n",
    "    peft_config = LoraConfig(\n",
    "        task_type=TaskType.SEQ_2_SEQ_LM,\n",
    "        inference_mode=False,\n",
    "        r=8,  # rank (smaller rank = less memory)\n",
    "        lora_alpha=32,\n",
    "        lora_dropout=0.1,\n",
    "        # Target modules depend on the model architecture\n",
    "        target_modules=[\"q\", \"v\", \"k\", \"o\", \"wi\", \"wo\"],\n",
    "    )\n",
    "    \n",
    "    # Apply LoRA - wrap in try/except in case of compatibility issues\n",
    "    try:\n",
    "        model = get_peft_model(model, peft_config)\n",
    "        print(\"LoRA applied successfully\")\n",
    "        model.print_trainable_parameters()\n",
    "    except Exception as e:\n",
    "        print(f\"Couldn't apply LoRA: {e}\")\n",
    "        print(\"Continuing with full fine-tuning\")\n",
    "    \n",
    "    # Preprocess datasets\n",
    "    tokenized_train = train_dataset.map(\n",
    "        lambda examples: preprocess_function(examples, tokenizer),\n",
    "        batched=True\n",
    "    )\n",
    "    tokenized_val = val_dataset.map(\n",
    "        lambda examples: preprocess_function(examples, tokenizer),\n",
    "        batched=True\n",
    "    )\n",
    "    \n",
    "    # Data collator\n",
    "    data_collator = DataCollatorForSeq2Seq(\n",
    "        tokenizer=tokenizer,\n",
    "        model=model,\n",
    "        pad_to_multiple_of=8\n",
    "    )\n",
    "    \n",
    "    # Apple Silicon optimized training arguments\n",
    "    training_args = Seq2SeqTrainingArguments(\n",
    "        output_dir=output_dir,\n",
    "        evaluation_strategy=\"epoch\",\n",
    "        save_strategy=\"epoch\",\n",
    "        learning_rate=5e-5,\n",
    "        per_device_train_batch_size=4,  # Smaller batch size for Mac\n",
    "        per_device_eval_batch_size=4,\n",
    "        gradient_accumulation_steps=8,  # Larger gradient accumulation\n",
    "        weight_decay=0.01,\n",
    "        save_total_limit=3,\n",
    "        num_train_epochs=3,\n",
    "        predict_with_generate=True,\n",
    "        # fp16=mps_available,  # Use fp16 if MPS is available\n",
    "        fp16=False,  # Use fp16 if MPS is available\n",
    "        report_to=\"tensorboard\",\n",
    "        load_best_model_at_end=True,\n",
    "        logging_steps=10,\n",
    "        # Mac-specific optimizations\n",
    "        dataloader_num_workers=max(1, os.cpu_count() // 2),\n",
    "        dataloader_pin_memory=False,  # Disable for MPS\n",
    "    )\n",
    "    \n",
    "    # Initialize trainer\n",
    "    trainer = Seq2SeqTrainer(\n",
    "        model=model,\n",
    "        args=training_args,\n",
    "        train_dataset=tokenized_train,\n",
    "        eval_dataset=tokenized_val,\n",
    "        tokenizer=tokenizer,\n",
    "        data_collator=data_collator,\n",
    "    )\n",
    "    \n",
    "    # Fine-tune the model\n",
    "    trainer.train()\n",
    "    \n",
    "    # Save the model\n",
    "    model.save_pretrained(output_dir)\n",
    "    tokenizer.save_pretrained(output_dir)\n",
    "    \n",
    "    # Evaluate on test set\n",
    "    print(\"Evaluating fine-tuned model...\")\n",
    "    test_results = evaluate_model(model, tokenizer, test_dataset, device)\n",
    "    print(f\"Test Results: {test_results}\")\n",
    "    \n",
    "    return model, tokenizer\n",
    "\n",
    "# 4. Evaluation function\n",
    "def evaluate_model(model, tokenizer, test_dataset, device):\n",
    "    # A simple evaluation function\n",
    "    def generate_comment(code):\n",
    "        inputs = tokenizer(\"Generate a comment for this code: \" + code, return_tensors=\"pt\")\n",
    "        inputs = {k: v.to(device) for k, v in inputs.items()}\n",
    "        \n",
    "        outputs = model.generate(**inputs, max_length=128)\n",
    "        return tokenizer.decode(outputs[0], skip_special_tokens=True)\n",
    "    \n",
    "    # Generate comments for a few examples\n",
    "    examples = test_dataset.select(range(min(5, len(test_dataset))))\n",
    "    for i, example in enumerate(examples):\n",
    "        code = example['diff_code']\n",
    "        expected = example['diff_docstring']\n",
    "        generated = generate_comment(code)\n",
    "        \n",
    "        print(f\"Example {i+1}:\")\n",
    "        print(f\"Code: {code[:100]}...\")\n",
    "        print(f\"Expected: {expected}\")\n",
    "        print(f\"Generated: {generated}\")\n",
    "        print(\"-\" * 50)\n",
    "    \n",
    "    # Here you could implement proper evaluation metrics\n",
    "    return {\"status\": \"Evaluation complete\"}\n",
    "\n",
    "# 5. Load and use the model for inference\n",
    "def load_and_use_model(model_path):\n",
    "    # Check for MPS availability\n",
    "    mps_available = hasattr(torch.backends, \"mps\") and torch.backends.mps.is_available()\n",
    "    device = torch.device(\"mps\" if mps_available else \"cpu\")\n",
    "    \n",
    "    # Load tokenizer\n",
    "    tokenizer = AutoTokenizer.from_pretrained(model_path)\n",
    "    \n",
    "    # Load model with appropriate settings for Apple Silicon\n",
    "    if mps_available:\n",
    "        print(\"Loading model with MPS acceleration...\")\n",
    "        # For inference, using half precision offers good performance on MPS\n",
    "        model = AutoModelForSeq2SeqLM.from_pretrained(model_path).half().to(device)\n",
    "    else:\n",
    "        print(\"Loading standard model...\")\n",
    "        model = AutoModelForSeq2SeqLM.from_pretrained(model_path).to(device)\n",
    "    \n",
    "    # Example usage\n",
    "    code_snippet = \"\"\"\n",
    "    def calculate_average(numbers):\n",
    "        total = sum(numbers)\n",
    "        return total / len(numbers)\n",
    "    \"\"\"\n",
    "    \n",
    "    # Generate comment\n",
    "    inputs = tokenizer(\"Generate a comment for this code: \" + code_snippet, return_tensors=\"pt\")\n",
    "    inputs = {k: v.to(device) for k, v in inputs.items()}\n",
    "    \n",
    "    outputs = model.generate(**inputs, max_length=128)\n",
    "    generated_comment = tokenizer.decode(outputs[0], skip_special_tokens=True)\n",
    "    \n",
    "    print(f\"Generated comment: {generated_comment}\")\n",
    "    return model, tokenizer\n",
    "\n",
    "# 6. Install required packages\n",
    "def install_requirements():\n",
    "    try:\n",
    "        import pip\n",
    "        \n",
    "        # Install base requirements\n",
    "        pip.main(['install', 'transformers', 'datasets', 'peft', 'tensorboard', 'scikit-learn'])\n",
    "        \n",
    "        # Check for Apple Silicon\n",
    "        is_apple_silicon = platform.processor() == 'arm' or \"Apple\" in platform.processor()\n",
    "        \n",
    "        if is_apple_silicon:\n",
    "            # Install PyTorch with MPS support if not already installed\n",
    "            import torch\n",
    "            if not hasattr(torch.backends, \"mps\"):\n",
    "                print(\"Installing PyTorch with MPS support...\")\n",
    "                pip.main(['install', 'torch', 'torchvision', 'torchaudio'])\n",
    "                \n",
    "    except Exception as e:\n",
    "        print(f\"Error installing requirements: {e}\")\n",
    "        print(\"Please manually install required packages\")\n",
    "\n",
    "# 7. Usage example\n",
    "if __name__ == \"__main__\":\n",
    "    # Install required packages\n",
    "    install_requirements()\n",
    "    \n",
    "    # Replace with your dataset path\n",
    "    dataset_path = \"path/to/your/code_comment_dataset.csv\"\n",
    "    \n",
    "    # For Apple Silicon M1/M2/M3, use a smaller model for better performance\n",
    "    model, tokenizer = finetune_code_comment_model(\n",
    "        dataset_path=dataset_path,\n",
    "        model_name=\"Salesforce/codet5p-220m\",  # Use smaller model for better Mac performance\n",
    "        output_dir=\"./code-comment-mac-model\"\n",
    "    )\n",
    "    \n",
    "    # Load and use the model for inference\n",
    "    load_and_use_model(\"./code-comment-mac-model\")"
   ]
  }
 ],
 "metadata": {
  "kernelspec": {
   "display_name": "music",
   "language": "python",
   "name": "python3"
  },
  "language_info": {
   "codemirror_mode": {
    "name": "ipython",
    "version": 3
   },
   "file_extension": ".py",
   "mimetype": "text/x-python",
   "name": "python",
   "nbconvert_exporter": "python",
   "pygments_lexer": "ipython3",
   "version": "3.12.8"
  }
 },
 "nbformat": 4,
 "nbformat_minor": 5
}
